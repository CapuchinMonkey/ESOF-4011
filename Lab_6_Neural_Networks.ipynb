{
  "nbformat": 4,
  "nbformat_minor": 0,
  "metadata": {
    "colab": {
      "name": "Lab 6 Neural Networks.ipynb",
      "provenance": [],
      "collapsed_sections": [],
      "include_colab_link": true
    },
    "kernelspec": {
      "name": "python3",
      "display_name": "Python 3"
    },
    "accelerator": "GPU"
  },
  "cells": [
    {
      "cell_type": "markdown",
      "metadata": {
        "id": "view-in-github",
        "colab_type": "text"
      },
      "source": [
        "<a href=\"https://colab.research.google.com/github/RFHertel/ESOF-4011/blob/main/Lab_6_Neural_Networks.ipynb\" target=\"_parent\"><img src=\"https://colab.research.google.com/assets/colab-badge.svg\" alt=\"Open In Colab\"/></a>"
      ]
    },
    {
      "cell_type": "markdown",
      "metadata": {
        "id": "Aid-1jcOerOH"
      },
      "source": [
        "# **Neural Networks ESOF 4011 Lab 6 Solution**\n",
        "\n",
        "Lab Instructor: Robert Hertel"
      ]
    },
    {
      "cell_type": "code",
      "metadata": {
        "id": "rXdfddM0W31h"
      },
      "source": [
        ""
      ],
      "execution_count": null,
      "outputs": []
    },
    {
      "cell_type": "markdown",
      "metadata": {
        "id": "gu2A48xIhRiO"
      },
      "source": [
        "Note: Please share all links with me in the future by pressing share in the top right corner"
      ]
    },
    {
      "cell_type": "markdown",
      "metadata": {
        "id": "Bt7gG8jggxuE"
      },
      "source": [
        "Introduction Format:\n",
        "\n",
        "Student Name: Robert Hertel\n",
        "\n",
        "Sudent ID: XXXXXX\n",
        "\n",
        "Lab No.: 6 \n",
        "\n",
        "Colab link: https://colab.research.google.com/drive/1KaZ7twy7ava5UHSLkhY4ER1oeWndg7Ho\n",
        "\n"
      ]
    },
    {
      "cell_type": "markdown",
      "metadata": {
        "id": "fxv8pPXxgm_H"
      },
      "source": [
        "# **Load the data and create train-test splits**"
      ]
    },
    {
      "cell_type": "code",
      "metadata": {
        "colab": {
          "base_uri": "https://localhost:8080/"
        },
        "id": "g2HzPJJ8DP5z",
        "outputId": "2a215901-6252-4c4a-df37-6333182103d9"
      },
      "source": [
        "import tensorflow.keras as keras\n",
        "print(\"Using Keras\",keras.__version__)\n",
        "from keras.models import Sequential\n",
        "from keras.layers import Dense\n",
        "from keras.layers import Dropout\n",
        "from keras.optimizers import SGD\n",
        "import openml as oml\n",
        "import numpy as np\n",
        "import matplotlib.pyplot as plt\n",
        "import sklearn\n",
        "import tensorflow as tf\n",
        "from sklearn.model_selection import train_test_split\n",
        "\n",
        "%matplotlib inline"
      ],
      "execution_count": null,
      "outputs": [
        {
          "output_type": "stream",
          "text": [
            "Using Keras 2.4.0\n"
          ],
          "name": "stdout"
        }
      ]
    },
    {
      "cell_type": "code",
      "metadata": {
        "colab": {
          "base_uri": "https://localhost:8080/"
        },
        "id": "q_UfMZKCC8Au",
        "outputId": "5d3243a3-237b-44d1-9709-c73203b35529"
      },
      "source": [
        "pip install openml"
      ],
      "execution_count": null,
      "outputs": [
        {
          "output_type": "stream",
          "text": [
            "Requirement already satisfied: openml in /usr/local/lib/python3.7/dist-packages (0.11.0)\n",
            "Requirement already satisfied: requests in /usr/local/lib/python3.7/dist-packages (from openml) (2.23.0)\n",
            "Requirement already satisfied: liac-arff>=2.4.0 in /usr/local/lib/python3.7/dist-packages (from openml) (2.5.0)\n",
            "Requirement already satisfied: python-dateutil in /usr/local/lib/python3.7/dist-packages (from openml) (2.8.1)\n",
            "Requirement already satisfied: numpy>=1.6.2 in /usr/local/lib/python3.7/dist-packages (from openml) (1.19.5)\n",
            "Requirement already satisfied: scipy>=0.13.3 in /usr/local/lib/python3.7/dist-packages (from openml) (1.4.1)\n",
            "Requirement already satisfied: pandas>=1.0.0 in /usr/local/lib/python3.7/dist-packages (from openml) (1.1.5)\n",
            "Requirement already satisfied: scikit-learn>=0.18 in /usr/local/lib/python3.7/dist-packages (from openml) (0.22.2.post1)\n",
            "Requirement already satisfied: xmltodict in /usr/local/lib/python3.7/dist-packages (from openml) (0.12.0)\n",
            "Requirement already satisfied: chardet<4,>=3.0.2 in /usr/local/lib/python3.7/dist-packages (from requests->openml) (3.0.4)\n",
            "Requirement already satisfied: urllib3!=1.25.0,!=1.25.1,<1.26,>=1.21.1 in /usr/local/lib/python3.7/dist-packages (from requests->openml) (1.24.3)\n",
            "Requirement already satisfied: certifi>=2017.4.17 in /usr/local/lib/python3.7/dist-packages (from requests->openml) (2020.12.5)\n",
            "Requirement already satisfied: idna<3,>=2.5 in /usr/local/lib/python3.7/dist-packages (from requests->openml) (2.10)\n",
            "Requirement already satisfied: six>=1.5 in /usr/local/lib/python3.7/dist-packages (from python-dateutil->openml) (1.15.0)\n",
            "Requirement already satisfied: pytz>=2017.2 in /usr/local/lib/python3.7/dist-packages (from pandas>=1.0.0->openml) (2018.9)\n",
            "Requirement already satisfied: joblib>=0.11 in /usr/local/lib/python3.7/dist-packages (from scikit-learn>=0.18->openml) (1.0.1)\n"
          ],
          "name": "stdout"
        }
      ]
    },
    {
      "cell_type": "code",
      "metadata": {
        "colab": {
          "base_uri": "https://localhost:8080/",
          "height": 141
        },
        "id": "tQuJDpoz-n4R",
        "outputId": "d83392ae-4fad-42c2-ab48-81441b8233d1"
      },
      "source": [
        "# Global imports and settings\n",
        "mnist = oml.datasets.get_dataset(554)\n",
        "X, y, _, _ = mnist.get_data(target=mnist.default_target_attribute, dataset_format='array');\n",
        "X = X.reshape(70000, 28, 28)\n",
        "# Take some random examples\n",
        "from random import randint\n",
        "fig, axes = plt.subplots(1, 5, figsize=(10, 5))\n",
        "for i in range(5):\n",
        " n = randint(0,70000)\n",
        " axes[i].imshow(X[n], cmap=plt.cm.gray_r)\n",
        " axes[i].set_xticks([])\n",
        " axes[i].set_yticks([])\n",
        " axes[i].set_xlabel(\"{}\".format(y[n]))\n",
        "plt.show();\n",
        "\n"
      ],
      "execution_count": null,
      "outputs": [
        {
          "output_type": "display_data",
          "data": {
            "image/png": "[encoded data removed]",
            "text/plain": [
              "<Figure size 720x360 with 5 Axes>"
            ]
          },
          "metadata": {
            "tags": []
          }
        }
      ]
    },
    {
      "cell_type": "code",
      "metadata": {
        "colab": {
          "base_uri": "https://localhost:8080/"
        },
        "id": "pmgdwR38LWn9",
        "outputId": "d2259b93-48dc-4d81-c86c-ee87db112531"
      },
      "source": [
        "# For MNIST, there exists a predefined stratified train-test split of 60000-10000. We therefore don't shuffle or stratify here.\n",
        "\n",
        "X_train, X_test, y_train, y_test = train_test_split(X, y, train_size=60000)\n",
        "print(\"Training set: \",X_train.shape)\n",
        "print(\"Test set: \",X_test.shape)"
      ],
      "execution_count": null,
      "outputs": [
        {
          "output_type": "stream",
          "text": [
            "Training set:  (60000, 28, 28)\n",
            "Test set:  (10000, 28, 28)\n"
          ],
          "name": "stdout"
        }
      ]
    },
    {
      "cell_type": "markdown",
      "metadata": {
        "id": "dwJzXIMFMjzt"
      },
      "source": [
        "# **Exercise 1: Preprocessing**\n",
        "\n",
        "Normalize the data: map each feature value from its current representation (an integer between 0\n",
        "and 255) to a floating-point value between 0 and 1.0.\n",
        "\n",
        "Store the floating-point values in x_train_normalized and x_test_normalized.\n",
        "\n",
        "Map the class label to a on-hot-encoded value. Store in y_train_encoded and y_test_encoded."
      ]
    },
    {
      "cell_type": "code",
      "metadata": {
        "id": "R1k7jyxaLcme"
      },
      "source": [
        "X_train = X_train.reshape((60000, 28 * 28))\n",
        "X_test = X_test.reshape((10000, 28 * 28))\n",
        "\n",
        "X_train = X_train.astype('float32') / 255\n",
        "X_test = X_test.astype('float32') / 255\n",
        "\n",
        "from keras.utils import to_categorical\n",
        "y_train = to_categorical(y_train)\n",
        "y_test = to_categorical(y_test)"
      ],
      "execution_count": null,
      "outputs": []
    },
    {
      "cell_type": "markdown",
      "metadata": {
        "id": "IZERaLlsRbXI"
      },
      "source": [
        "# **Exercise 2: Create a deep neural net model**\n",
        "\n",
        "Implement a create_model function which defines the topography of the deep neural net, specifying the\n",
        "following:\n",
        "\n",
        "The number of layers in the deep neural net: Use 2 dense layers for now.\n",
        "\n",
        "The number of nodes in each layer: these are parameters of your function.\n",
        "\n",
        "Any regularization layers. Add at least one dropout layer.\n",
        "\n",
        "The optimizer and learning rate. Make the learning rate a parameter of your function as well.\n",
        "\n",
        "Consider:\n",
        "\n",
        "What should be the shape of the input layer?\n",
        "\n",
        "Which activation function you will need for the last layer, since this is a 10-class classification\n",
        "problem?\n"
      ]
    },
    {
      "cell_type": "markdown",
      "metadata": {
        "id": "hl9Hhun-RNg-"
      },
      "source": [
        "We can now build a simple neural network for MNIST:\n",
        "\n",
        "One dense hidden ReLU layer with 512 nodes\n",
        "Input from a 28x28 matrix\n",
        "Output softmax layer with 10 nodes"
      ]
    },
    {
      "cell_type": "code",
      "metadata": {
        "id": "iKidT0U2PGHR"
      },
      "source": [
        "### Create and compile a 'deep' neural net\n",
        "image_size = 784 # 28*28\n",
        "num_classes = 10 # ten unique digits\n",
        "\n",
        "def create_model(layer_1_units=32, layer_2_units=10, learning_rate=0.001, dropout_rate=0.3):\n",
        "    model = Sequential()\n",
        "    model.add(Dense(layer_1_units, activation='relu', input_shape=(image_size,)))\n",
        "    model.add(Dropout(0.2))\n",
        "    model.add(Dense(layer_2_units, activation='softmax'))\n",
        "    model.summary()\n",
        "    sgd = SGD(lr=learning_rate, momentum=0.9)\n",
        "    model.compile(loss='categorical_crossentropy', optimizer=sgd, metrics=['accuracy'])\n",
        "    return model\n",
        "\n"
      ],
      "execution_count": null,
      "outputs": []
    },
    {
      "cell_type": "markdown",
      "metadata": {
        "id": "NtSCgVRMSlTv"
      },
      "source": [
        "# **Exercise 3: Create a training funtion**"
      ]
    },
    {
      "cell_type": "code",
      "metadata": {
        "id": "6ekgDuDGR0iP"
      },
      "source": [
        "def train_model(model, x_train, y_train, x_test, y_test, validation_split=0.1, epochs=5, batch_size=128):\n",
        "    history = model.fit(x_train, y_train, batch_size=batch_size, epochs=epochs, validation_split=validation_split, verbose=True)\n",
        "    loss, accuracy  = model.evaluate(x_test, y_test, verbose=False)\n",
        "    \n",
        "    plt.plot(history.history['accuracy'])\n",
        "    plt.plot(history.history['val_accuracy'])\n",
        "    plt.title('model accuracy')\n",
        "    plt.ylabel('accuracy')\n",
        "    plt.xlabel('epoch')\n",
        "    plt.legend(['training', 'validation'], loc='best')\n",
        "    plt.show()\n",
        "\n",
        "    plt.plot(history.history['loss'])\n",
        "    plt.plot(history.history['val_loss'])\n",
        "    plt.title('model loss')\n",
        "    plt.ylabel('loss')\n",
        "    plt.xlabel('epoch')\n",
        "    plt.legend(['training', 'validation'], loc='best')\n",
        "    plt.show()\n",
        "\n",
        "    print()\n",
        "    print(f'Test loss: {loss:.3}')\n",
        "    print(f'Test accuracy: {accuracy:.3}')\n"
      ],
      "execution_count": null,
      "outputs": []
    },
    {
      "cell_type": "markdown",
      "metadata": {
        "id": "ovMcIOEhTJDh"
      },
      "source": [
        "# **Exercise 4: Evaluate the model**"
      ]
    },
    {
      "cell_type": "code",
      "metadata": {
        "colab": {
          "base_uri": "https://localhost:8080/",
          "height": 1000
        },
        "id": "mob_dyTuUW1m",
        "outputId": "f7de4db5-37c0-4ca9-8a1f-d97640983dad"
      },
      "source": [
        "model = create_model()\n",
        "train_model(model, X_train, y_train, X_test, y_test, validation_split=0.1, epochs=5, batch_size=128)"
      ],
      "execution_count": null,
      "outputs": [
        {
          "output_type": "stream",
          "text": [
            "Model: \"sequential\"\n",
            "_________________________________________________________________\n",
            "Layer (type)                 Output Shape              Param #   \n",
            "=================================================================\n",
            "dense (Dense)                (None, 32)                25120     \n",
            "_________________________________________________________________\n",
            "dropout (Dropout)            (None, 32)                0         \n",
            "_________________________________________________________________\n",
            "dense_1 (Dense)              (None, 10)                330       \n",
            "=================================================================\n",
            "Total params: 25,450\n",
            "Trainable params: 25,450\n",
            "Non-trainable params: 0\n",
            "_________________________________________________________________\n",
            "Epoch 1/5\n",
            "422/422 [==============================] - 3s 3ms/step - loss: 1.9982 - accuracy: 0.3309 - val_loss: 1.0028 - val_accuracy: 0.7985\n",
            "Epoch 2/5\n",
            "422/422 [==============================] - 1s 2ms/step - loss: 0.9762 - accuracy: 0.7329 - val_loss: 0.6259 - val_accuracy: 0.8505\n",
            "Epoch 3/5\n",
            "422/422 [==============================] - 1s 2ms/step - loss: 0.7126 - accuracy: 0.7958 - val_loss: 0.5082 - val_accuracy: 0.8688\n",
            "Epoch 4/5\n",
            "422/422 [==============================] - 1s 2ms/step - loss: 0.6083 - accuracy: 0.8212 - val_loss: 0.4495 - val_accuracy: 0.8798\n",
            "Epoch 5/5\n",
            "422/422 [==============================] - 1s 2ms/step - loss: 0.5469 - accuracy: 0.8402 - val_loss: 0.4122 - val_accuracy: 0.8873\n"
          ],
          "name": "stdout"
        },
        {
          "output_type": "display_data",
          "data": {
            "image/png": "[encoded data removed]",
            "text/plain": [
              "<Figure size 432x288 with 1 Axes>"
            ]
          },
          "metadata": {
            "tags": [],
            "needs_background": "light"
          }
        },
        {
          "output_type": "display_data",
          "data": {
            "image/png": "[encoded data removed]",
            "text/plain": [
              "<Figure size 432x288 with 1 Axes>"
            ]
          },
          "metadata": {
            "tags": [],
            "needs_background": "light"
          }
        },
        {
          "output_type": "stream",
          "text": [
            "\n",
            "Test loss: 0.42\n",
            "Test accuracy: 0.886\n"
          ],
          "name": "stdout"
        }
      ]
    },
    {
      "cell_type": "markdown",
      "metadata": {
        "id": "9MSwdLleezdO"
      },
      "source": [
        "# **Exercise 5: Optimize the model**\n",
        "\n",
        "Try to optimize the model, either manually or with a tuning method. At least optimize the following:\n",
        "\n",
        "the number of hidden layers\n",
        "\n",
        "the number of nodes in each layer\n",
        "\n",
        "the amount of dropout layers and the dropout rate"
      ]
    },
    {
      "cell_type": "code",
      "metadata": {
        "id": "CdY2gV8qfAr2"
      },
      "source": [
        "#changed learning rate to 0.1, dropout to 0.2 and layer1 nodes to 64\n",
        "\n",
        "def create_model(layer_1_units=64, layer_2_units=10, learning_rate=0.1, dropout_rate=0.2):\n",
        "    model = Sequential()\n",
        "    model.add(Dense(layer_1_units, activation='relu', input_shape=(image_size,)))\n",
        "    #model.add(Dense(layer_1_units, activation='relu', input_shape=(image_size,))) If want to add another layer. It wasn't necessary in this case but can help\n",
        "    model.add(Dropout(0.2))\n",
        "    model.add(Dense(layer_2_units, activation='softmax'))\n",
        "    model.summary()\n",
        "    sgd = SGD(lr=learning_rate, momentum=0.9)\n",
        "    model.compile(loss='categorical_crossentropy', optimizer=sgd, metrics=['accuracy'])\n",
        "    return model"
      ],
      "execution_count": null,
      "outputs": []
    },
    {
      "cell_type": "code",
      "metadata": {
        "id": "DU9RQCgKffuZ"
      },
      "source": [
        "def train_model(model, x_train, y_train, x_test, y_test, validation_split=0.1, epochs=5, batch_size=128):\n",
        "    history = model.fit(x_train, y_train, batch_size=batch_size, epochs=epochs, validation_split=validation_split, verbose=True)\n",
        "    loss, accuracy  = model.evaluate(x_test, y_test, verbose=False)\n",
        "    \n",
        "    plt.plot(history.history['accuracy'])\n",
        "    plt.plot(history.history['val_accuracy'])\n",
        "    plt.title('model accuracy')\n",
        "    plt.ylabel('accuracy')\n",
        "    plt.xlabel('epoch')\n",
        "    plt.legend(['training', 'validation'], loc='best')\n",
        "    plt.show()\n",
        "\n",
        "    plt.plot(history.history['loss'])\n",
        "    plt.plot(history.history['val_loss'])\n",
        "    plt.title('model loss')\n",
        "    plt.ylabel('loss')\n",
        "    plt.xlabel('epoch')\n",
        "    plt.legend(['training', 'validation'], loc='best')\n",
        "    plt.show()\n",
        "\n",
        "    print()\n",
        "    print(f'Test loss: {loss:.3}')\n",
        "    print(f'Test accuracy: {accuracy:.3}')"
      ],
      "execution_count": null,
      "outputs": []
    },
    {
      "cell_type": "code",
      "metadata": {
        "colab": {
          "base_uri": "https://localhost:8080/",
          "height": 1000
        },
        "id": "aB21RwGJfHsw",
        "outputId": "537d99d7-3f59-42d0-a890-2a0256ec33cc"
      },
      "source": [
        "model = create_model()\n",
        "train_model(model, X_train, y_train, X_test, y_test, validation_split=0.1, epochs=5, batch_size=128)"
      ],
      "execution_count": null,
      "outputs": [
        {
          "output_type": "stream",
          "text": [
            "Model: \"sequential_1\"\n",
            "_________________________________________________________________\n",
            "Layer (type)                 Output Shape              Param #   \n",
            "=================================================================\n",
            "dense_2 (Dense)              (None, 64)                50240     \n",
            "_________________________________________________________________\n",
            "dropout_1 (Dropout)          (None, 64)                0         \n",
            "_________________________________________________________________\n",
            "dense_3 (Dense)              (None, 10)                650       \n",
            "=================================================================\n",
            "Total params: 50,890\n",
            "Trainable params: 50,890\n",
            "Non-trainable params: 0\n",
            "_________________________________________________________________\n",
            "Epoch 1/5\n",
            "422/422 [==============================] - 1s 3ms/step - loss: 0.5915 - accuracy: 0.8123 - val_loss: 0.1687 - val_accuracy: 0.9505\n",
            "Epoch 2/5\n",
            "422/422 [==============================] - 1s 2ms/step - loss: 0.2050 - accuracy: 0.9364 - val_loss: 0.1327 - val_accuracy: 0.9615\n",
            "Epoch 3/5\n",
            "422/422 [==============================] - 1s 2ms/step - loss: 0.1671 - accuracy: 0.9483 - val_loss: 0.1201 - val_accuracy: 0.9668\n",
            "Epoch 4/5\n",
            "422/422 [==============================] - 1s 2ms/step - loss: 0.1447 - accuracy: 0.9539 - val_loss: 0.1092 - val_accuracy: 0.9653\n",
            "Epoch 5/5\n",
            "422/422 [==============================] - 1s 2ms/step - loss: 0.1331 - accuracy: 0.9579 - val_loss: 0.1126 - val_accuracy: 0.9657\n"
          ],
          "name": "stdout"
        },
        {
          "output_type": "display_data",
          "data": {
            "image/png": "[encoded data removed]",
            "text/plain": [
              "<Figure size 432x288 with 1 Axes>"
            ]
          },
          "metadata": {
            "tags": [],
            "needs_background": "light"
          }
        },
        {
          "output_type": "display_data",
          "data": {
            "image/png": "[encoded data removed]",
            "text/plain": [
              "<Figure size 432x288 with 1 Axes>"
            ]
          },
          "metadata": {
            "tags": [],
            "needs_background": "light"
          }
        },
        {
          "output_type": "stream",
          "text": [
            "\n",
            "Test loss: 0.135\n",
            "Test accuracy: 0.96\n"
          ],
          "name": "stdout"
        }
      ]
    },
    {
      "cell_type": "markdown",
      "metadata": {
        "id": "GTjpkmAiefmR"
      },
      "source": [
        "**Clear model weights if want to rerun the algortihm**"
      ]
    },
    {
      "cell_type": "code",
      "metadata": {
        "id": "b6IYYJlCeM7u"
      },
      "source": [
        "tf.keras.backend.clear_session()"
      ],
      "execution_count": null,
      "outputs": []
    }
  ]
}