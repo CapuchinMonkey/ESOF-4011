{
  "nbformat": 4,
  "nbformat_minor": 0,
  "metadata": {
    "colab": {
      "name": "Lab4_K-Means Rev2.ipynb",
      "provenance": [],
      "collapsed_sections": [],
      "authorship_tag": "ABX9TyO9y5QbiAvwW+iVjFgpGv0S",
      "include_colab_link": true
    },
    "kernelspec": {
      "name": "python3",
      "display_name": "Python 3"
    }
  },
  "cells": [
    {
      "cell_type": "markdown",
      "metadata": {
        "id": "view-in-github",
        "colab_type": "text"
      },
      "source": [
        "<a href=\"https://colab.research.google.com/github/RFHertel/ESOF-4011/blob/main/Lab4_K_Means_Rev2.ipynb\" target=\"_parent\"><img src=\"https://colab.research.google.com/assets/colab-badge.svg\" alt=\"Open In Colab\"/></a>"
      ]
    },
    {
      "cell_type": "markdown",
      "metadata": {
        "id": "vms2nAfJ6Oeq"
      },
      "source": [
        "# K-Means ESOF 4011 Lab 4 Solution\n",
        "\n",
        "### Lab Instructor: Robert Hertel\n",
        "\n",
        "\n",
        "Notes:\n",
        "\n",
        "1) Please share all links with me in the future by pressing share in the top right corner\n",
        "\n",
        "2) If the notebook doesn't run correctly sometimes restarting the kernal under the runtime menu is helpful"
      ]
    },
    {
      "cell_type": "markdown",
      "metadata": {
        "id": "HkgFqPtG6Mt1"
      },
      "source": [
        "Introduction Format:\n",
        "\n",
        "Student Name: XXXXXX\n",
        "\n",
        "Sudent ID: XXXXXX\n",
        "\n",
        "Lab No.: 4 \n",
        "\n",
        "Colab link: https://colab.research.google.com/drive/16rqvcPUsU1_eLWxnzp--getV5POIT97j#scrollTo=lgCVLGXlkqyc"
      ]
    },
    {
      "cell_type": "markdown",
      "metadata": {
        "id": "07fpzJeQ82lV"
      },
      "source": [
        "### 1) Pseudocode"
      ]
    },
    {
      "cell_type": "markdown",
      "metadata": {
        "id": "_zlon2-ejIWK"
      },
      "source": [
        "1 Set K to be 4\n",
        "2 Create an array to hold all of the Euclidean distances of each point the centroids\n",
        "\n",
        "3 Create an empty centroids array \n",
        "\n",
        "4 Fill the centroids array with 4 random centroid (x,y) points. Note: You can also choose to assign 4 random points in the problem set to be the centroids. \n",
        "\n",
        "5 Create a function and input initial parameters into the function. The problem set of points, centroids, k value and so on are all parameters to define in the function. \n",
        "\n",
        "6 Start with creating an array within the function to contain the Euclidean distance of the 12 points in the set to each of the centroids\n",
        "7 Find out which centroid each point belongs to by finding the smallest distance to a centroid for each point in the set. Assign each point in the set to one of the centroids\n",
        "\n",
        "8 compute the means of 4 separated clusters (x,y) \n",
        "\n",
        "9 update the centroids to the means \n",
        "\n",
        "10 Repeat Steps 6 to 9 for as many iterations as you set (once the points continue to remain set to the same centroids the iterations aren’t necessary to continue)\n",
        "\n",
        "11 Return the final positions of the centroids\n",
        "\n"
      ]
    },
    {
      "cell_type": "markdown",
      "metadata": {
        "id": "AoS7rQR9q58B"
      },
      "source": [
        "### Sklearn libray tool used to generate assignment points:"
      ]
    },
    {
      "cell_type": "code",
      "metadata": {
        "colab": {
          "base_uri": "https://localhost:8080/",
          "height": 376
        },
        "id": "3gnsWWFUs524",
        "outputId": "ab123d63-5b9c-4847-b7c7-e14d727a5bd5"
      },
      "source": [
        "# importing the required libraries\n",
        "import pandas as pd\n",
        "import numpy as np\n",
        "import matplotlib.pyplot as plt\n",
        "%matplotlib inline\n",
        "\n",
        "from sklearn.datasets.samples_generator import make_blobs\n",
        "X, y = make_blobs(n_samples=12, centers=4, random_state=100)\n",
        "plt.rcParams.update({'figure.figsize':(10,7.5), 'figure.dpi':50})\n",
        "plt.scatter(X[:, 0], X[:, 1]);"
      ],
      "execution_count": null,
      "outputs": [
        {
          "output_type": "stream",
          "text": [
            "/usr/local/lib/python3.6/dist-packages/sklearn/utils/deprecation.py:144: FutureWarning: The sklearn.datasets.samples_generator module is  deprecated in version 0.22 and will be removed in version 0.24. The corresponding classes / functions should instead be imported from sklearn.datasets. Anything that cannot be imported from sklearn.datasets is now part of the private API.\n",
            "  warnings.warn(message, FutureWarning)\n"
          ],
          "name": "stderr"
        },
        {
          "output_type": "display_data",
          "data": {
            "image/png": "[encoded data removed]",
            "text/plain": [
              "<Figure size 500x375 with 1 Axes>"
            ]
          },
          "metadata": {
            "tags": [],
            "needs_background": "light"
          }
        }
      ]
    },
    {
      "cell_type": "code",
      "metadata": {
        "colab": {
          "base_uri": "https://localhost:8080/"
        },
        "id": "0FHRvPWctTec",
        "outputId": "f8f1ff3b-abaf-41e8-fb51-e4ea5d6a236c"
      },
      "source": [
        "X"
      ],
      "execution_count": null,
      "outputs": [
        {
          "output_type": "execute_result",
          "data": {
            "text/plain": [
              "array([[-10.15750202,  -8.41105332],\n",
              "       [-10.3437585 ,  -8.68693583],\n",
              "       [ -8.28664122,  -6.02701241],\n",
              "       [  4.14598204,   7.87861123],\n",
              "       [  0.41007185,  -3.99744881],\n",
              "       [ -0.83692738,   6.7911115 ],\n",
              "       [  0.678603  ,  -4.17761085],\n",
              "       [  3.59950039,   7.4541373 ],\n",
              "       [  1.08927851,  -5.50265563],\n",
              "       [ -2.04092856,   7.92525533],\n",
              "       [ -2.09324324,   7.71236972],\n",
              "       [  3.08874364,   6.57273112]])"
            ]
          },
          "metadata": {
            "tags": []
          },
          "execution_count": 2
        }
      ]
    },
    {
      "cell_type": "markdown",
      "metadata": {
        "id": "mUKd0q8dqdgD"
      },
      "source": [
        "The assignment points given in the assignment were the same as can be seen here. The sklearn.datasets.samples_generator creates these points to be the same every time as random state = 100 when using the make_blobs() function"
      ]
    },
    {
      "cell_type": "code",
      "metadata": {
        "id": "4ltBtQNzqs4W"
      },
      "source": [
        "X = np.array([[-10.15750202,  -8.41105332],\n",
        "       [-10.3437585 ,  -8.68693583],\n",
        "       [ -8.28664122,  -6.02701241],\n",
        "       [  4.14598204,   7.87861123],\n",
        "       [  0.41007185,  -3.99744881],\n",
        "       [ -0.83692738,   6.7911115 ],\n",
        "       [  0.678603  ,  -4.17761085],\n",
        "       [  3.59950039,   7.4541373 ],\n",
        "       [  1.08927851,  -5.50265563],\n",
        "       [ -2.04092856,   7.92525533],\n",
        "       [ -2.09324324,   7.71236972],\n",
        "       [  3.08874364,   6.57273112]])\n"
      ],
      "execution_count": null,
      "outputs": []
    },
    {
      "cell_type": "markdown",
      "metadata": {
        "id": "F-2KYKtgrLfW"
      },
      "source": [
        "### 2) Code To perform simple K-means algorithm. \n",
        "\n",
        "1st Part sets up initial configuration ie. setting initial values and giving the k-means algorithm initial centroids\n",
        "\n"
      ]
    },
    {
      "cell_type": "code",
      "metadata": {
        "colab": {
          "base_uri": "https://localhost:8080/"
        },
        "id": "QeQR6tXntQHS",
        "outputId": "89c67264-f27b-4edf-c390-dead57149360"
      },
      "source": [
        "# setting the number of training examples\n",
        "m=X.shape[0]\n",
        "print(m)\n",
        "\n",
        "n=X.shape[1] \n",
        "print(n)\n",
        "\n",
        "n_iter=50\n"
      ],
      "execution_count": null,
      "outputs": [
        {
          "output_type": "stream",
          "text": [
            "12\n",
            "2\n"
          ],
          "name": "stdout"
        }
      ]
    },
    {
      "cell_type": "code",
      "metadata": {
        "id": "3aM2EZ1rtlK5",
        "colab": {
          "base_uri": "https://localhost:8080/",
          "height": 281
        },
        "outputId": "ff405e16-ecc3-45e8-8d2e-c3e15efd97ee"
      },
      "source": [
        "#I have set the K value to be 4 and also initialized the centroids randomly at first using the random.randint() function.\n",
        "\n",
        "# computing the initial centroids randomly\n",
        "K=4\n",
        "import random\n",
        "\n",
        "# creating an empty centroid array\n",
        "centroids=np.array([]).reshape(n,0) \n",
        "\n",
        "# how to generate 4 random centroids\n",
        "#for k in range(K):\n",
        "    #centroids=np.c_[centroids,X[random.randint(0,m-1)]]\n",
        "\n",
        "# we'll this set of random centroids for the lab\n",
        "centroids = np.array([[ -2.09324324, -10.3437585 ,  -2.04092856,  -0.83692738],\n",
        "       [  7.71236972,  -8.68693583,   7.92525533,   6.7911115 ]])\n",
        "\n",
        "plt.scatter(centroids[0,:],centroids[1,:],s=300,c='yellow')\n",
        "plt.scatter(X[:,0],X[:,1])\n",
        "plt.rcParams.update({'figure.figsize':(10,7.5), 'figure.dpi':100})\n",
        "plt.title('Initial Centroid Locations')\n",
        "plt.show()"
      ],
      "execution_count": null,
      "outputs": [
        {
          "output_type": "display_data",
          "data": {
            "image/png": "[encoded data removed]",
            "text/plain": [
              "<Figure size 432x288 with 1 Axes>"
            ]
          },
          "metadata": {
            "tags": [],
            "needs_background": "light"
          }
        }
      ]
    },
    {
      "cell_type": "markdown",
      "metadata": {
        "id": "jXT9c38rkimt"
      },
      "source": [
        "#### Define function"
      ]
    },
    {
      "cell_type": "code",
      "metadata": {
        "id": "WARm6Kz5t0JK"
      },
      "source": [
        "def Kmeans(X, m ,centroids, K, n_iter):\n",
        "    \"\"\"\n",
        "    :param X: The array of points\n",
        "    :param m: The number of training examples\n",
        "    :param centroids: A NumPy array of initial centroids\n",
        "    :param K: Then number of clusters\n",
        "    :param K: Then number of iterations the program runs\n",
        "    :return: The final centroid locations\n",
        "    \"\"\"\n",
        "    # output={}\n",
        "\n",
        "    # creating an empty array\n",
        "    euclid=np.array([]).reshape(m,0)\n",
        "\n",
        "    # finding distance between for each centroid\n",
        "    for k in range(K):\n",
        "          dist=np.sum((X-centroids[:,k])**2,axis=1)\n",
        "          euclid=np.c_[euclid,dist]\n",
        "    print('euclid')\n",
        "    print(euclid)\n",
        "\n",
        "    # storing the minimum value we have computed\n",
        "    minimum=np.argmin(euclid,axis=1)+1\n",
        "    print('minimums')\n",
        "    print(minimum)\n",
        "\n",
        "    # computing the mean of separated clusters\n",
        "    cent={}\n",
        "    for k in range(K):\n",
        "      cent[k+1]=np.array([]).reshape(2,0)\n",
        "\n",
        "\n",
        "    # assigning of clusters to points\n",
        "\n",
        "    for k in range(m):\n",
        "      cent[minimum[k]]=np.c_[cent[minimum[k]],X[k]]\n",
        "\n",
        "    for k in range(K):\n",
        "      cent[k+1]=cent[k+1].T\n",
        "\n",
        "    # computing mean and updating it\n",
        "    print('means')\n",
        "    for k in range(K):\n",
        "        centroids[:,k]=np.mean(cent[k+1],axis=0)\n",
        "        print(centroids[:,k])\n",
        "\n",
        "    # repeating the above steps again and again\n",
        "    for i in range(n_iter):\n",
        "        euclid=np.array([]).reshape(m,0)\n",
        "        for k in range(K):\n",
        "            dist=np.sum((X-centroids[:,k])**2,axis=1)\n",
        "            euclid=np.c_[euclid,dist]\n",
        "        C=np.argmin(euclid,axis=1)+1\n",
        "        cent={}\n",
        "        for k in range(K):\n",
        "              cent[k+1]=np.array([]).reshape(2,0)\n",
        "        for k in range(m):\n",
        "              cent[C[k]]=np.c_[cent[C[k]],X[k]]\n",
        "        for k in range(K):\n",
        "              cent[k+1]=cent[k+1].T\n",
        "        for k in range(K):\n",
        "              centroids[:,k]=np.mean(cent[k+1],axis=0)\n",
        "    final=cent\n",
        "    return final"
      ],
      "execution_count": null,
      "outputs": []
    },
    {
      "cell_type": "code",
      "metadata": {
        "id": "r4gOrGesunsZ",
        "colab": {
          "base_uri": "https://localhost:8080/"
        },
        "outputId": "c1e9e647-c4ed-4729-adde-da3914edfba1"
      },
      "source": [
        "final = Kmeans(X, m ,centroids, K, n_iter) "
      ],
      "execution_count": null,
      "outputs": [
        {
          "output_type": "stream",
          "text": [
            "euclid\n",
            "[[3.24997040e+02 1.10802636e-01 3.32753745e+02 3.17978927e+02]\n",
            " [3.37008225e+02 0.00000000e+00 3.44901880e+02 3.29949787e+02]\n",
            " [2.27128800e+02 1.13069241e+01 2.33674702e+02 2.19802537e+02]\n",
            " [3.89555683e+01 4.84369930e+02 3.82800384e+01 2.60120420e+01]\n",
            " [1.43386436e+02 1.37636156e+02 1.48158277e+02 1.17948041e+02]\n",
            " [2.42704625e+00 3.29949787e+02 2.73590107e+00 0.00000000e+00]\n",
            " [1.49054770e+02 1.41826465e+02 1.53875222e+02 1.22609702e+02]\n",
            " [3.24740140e+01 4.54948710e+02 3.20363909e+01 2.01214946e+01]\n",
            " [1.84765340e+02 1.40853976e+02 1.90106989e+02 1.54846979e+02]\n",
            " [4.80571087e-02 3.44901880e+02 0.00000000e+00 2.73590107e+00]\n",
            " [0.00000000e+00 3.37008225e+02 4.80571087e-02 2.42704625e+00]\n",
            " [2.81517642e+01 4.13289549e+02 2.81428586e+01 1.54585829e+01]]\n",
            "minimums\n",
            "[2 2 2 4 4 4 4 4 2 3 1 4]\n",
            "means\n",
            "[-2.09324324  7.71236972]\n",
            "[-6.92465581 -7.1569143 ]\n",
            "[-2.04092856  7.92525533]\n",
            "[1.84766226 3.42025525]\n"
          ],
          "name": "stdout"
        }
      ]
    },
    {
      "cell_type": "markdown",
      "metadata": {
        "id": "6qAFpgv2ku0d"
      },
      "source": [
        "### Initial set for comparison"
      ]
    },
    {
      "cell_type": "code",
      "metadata": {
        "colab": {
          "base_uri": "https://localhost:8080/",
          "height": 667
        },
        "id": "kaV01Lazup7c",
        "outputId": "6ddf4124-de17-4ea2-df68-17743be611c4"
      },
      "source": [
        "plt.scatter(X[:,0],X[:,1])\n",
        "plt.rcParams.update({'figure.figsize':(10,7.5), 'figure.dpi':100})\n",
        "plt.title('Original Dataset')"
      ],
      "execution_count": null,
      "outputs": [
        {
          "output_type": "execute_result",
          "data": {
            "text/plain": [
              "Text(0.5, 1.0, 'Original Dataset')"
            ]
          },
          "metadata": {
            "tags": []
          },
          "execution_count": 8
        },
        {
          "output_type": "display_data",
          "data": {
            "image/png": "[encoded data removed]",
            "text/plain": [
              "<Figure size 1000x750 with 1 Axes>"
            ]
          },
          "metadata": {
            "tags": [],
            "needs_background": "light"
          }
        }
      ]
    },
    {
      "cell_type": "markdown",
      "metadata": {
        "id": "lgCVLGXlkqyc"
      },
      "source": [
        "### Final result"
      ]
    },
    {
      "cell_type": "code",
      "metadata": {
        "colab": {
          "base_uri": "https://localhost:8080/",
          "height": 626
        },
        "id": "k8MBazTSut0E",
        "outputId": "5e40576c-0353-466d-e5d2-f574369efbb3"
      },
      "source": [
        "plt.scatter(centroids[0,:],centroids[1,:],s=300,c='yellow')\n",
        "for k in range(K):\n",
        "    plt.scatter(final[k+1][:,0],final[k+1][:,1])\n",
        "plt.rcParams.update({'figure.figsize':(10,7.5), 'figure.dpi':100})\n",
        "plt.show()"
      ],
      "execution_count": null,
      "outputs": [
        {
          "output_type": "display_data",
          "data": {
            "image/png": "[encoded data removed]",
            "text/plain": [
              "<Figure size 1000x750 with 1 Axes>"
            ]
          },
          "metadata": {
            "tags": [],
            "needs_background": "light"
          }
        }
      ]
    }
  ]
}