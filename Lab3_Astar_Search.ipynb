{
  "nbformat": 4,
  "nbformat_minor": 0,
  "metadata": {
    "colab": {
      "name": "Lab3_Astar_Search.ipynb",
      "provenance": [],
      "collapsed_sections": [],
      "include_colab_link": true
    },
    "kernelspec": {
      "name": "python3",
      "display_name": "Python 3"
    }
  },
  "cells": [
    {
      "cell_type": "markdown",
      "metadata": {
        "id": "view-in-github",
        "colab_type": "text"
      },
      "source": [
        "<a href=\"https://colab.research.google.com/github/RFHertel/ESOF-4011/blob/main/Lab3_Astar_Search.ipynb\" target=\"_parent\"><img src=\"https://colab.research.google.com/assets/colab-badge.svg\" alt=\"Open In Colab\"/></a>"
      ]
    },
    {
      "cell_type": "markdown",
      "metadata": {
        "id": "Aid-1jcOerOH"
      },
      "source": [
        "# Astar Search ESOF 4011 Lab3 Solution\n",
        "\n",
        "## Lab Instructor: Robert Hertel"
      ]
    },
    {
      "cell_type": "markdown",
      "metadata": {
        "id": "gu2A48xIhRiO"
      },
      "source": [
        "Note: Please share all links with me in the future by pressing share in the top right corner"
      ]
    },
    {
      "cell_type": "markdown",
      "metadata": {
        "id": "Bt7gG8jggxuE"
      },
      "source": [
        "Introduction Format:\n",
        "\n",
        "Student Name: Robert Hertel\n",
        "\n",
        "Sudent ID: XXXXXX\n",
        "\n",
        "Lab No.: 3 \n",
        "\n",
        "Colab link: https://colab.research.google.com/drive/1xAAGhhDZQEBzROGjuNFrSsKQQQs6n8Pd#scrollTo=tgn7B6Bmn2J6\n",
        "\n"
      ]
    },
    {
      "cell_type": "markdown",
      "metadata": {
        "id": "yK-lf0_BPmO8"
      },
      "source": [
        "### 1) Data Structures"
      ]
    },
    {
      "cell_type": "code",
      "metadata": {
        "id": "xR1E9kwWPlPE"
      },
      "source": [
        "#define fuction to return neighbor and its distance\n",
        "#from the passed node\n",
        "def get_neighbors(v):\n",
        "    if v in Graph_nodes:\n",
        "        return Graph_nodes[v]\n",
        "    else:\n",
        "        return None\n",
        "#for simplicity we ll consider heuristic distances given\n",
        "#and this function returns heuristic distance for all nodes\n",
        "def heuristic(n):\n",
        "        H_dist = {\n",
        "            'S': 9,\n",
        "            'A': 8,\n",
        "            'B': 6,\n",
        "            'C': 7,\n",
        "            'D': 4,\n",
        "            'E': 6,\n",
        "            'F': 3,\n",
        "            'G': 0,\n",
        "\n",
        "           \n",
        "        }\n",
        " \n",
        "        return H_dist[n]\n",
        " \n",
        "#Describe your graph here  \n",
        "Graph_nodes = {\n",
        "    'S': [('A', 1),('B', 5)],\n",
        "    'A': [('B', 2),('C', 3),('D', 4)],\n",
        "    'B': [('D', 3),('E', 3)],\n",
        "    'C': [('B', 4),('F', 5) ],\n",
        "    'D': [('F', 6)],\n",
        "    'E': [('D', 6),('G', 10)],\n",
        "    'F': [('G', 5)],\n",
        "  \n",
        "}"
      ],
      "execution_count": null,
      "outputs": []
    },
    {
      "cell_type": "markdown",
      "metadata": {
        "id": "bwlwf1V-opNb"
      },
      "source": [
        "### 2) Algorithm Development # Don't Click on it\n",
        "\n",
        "g(x) + h(x) = f(x) ie: graph edges + node heuristic distances = function total distance\n",
        "\n",
        "PseudoCode:\n",
        "\n",
        "```\n",
        "Function(start_node ,stop_node):\n",
        "    let the openList equal empty list of nodes\n",
        "    let the closedList equal empty list of nodes\n",
        "    put the start_node on the openList (leave it's f at zero)\n",
        "    create an empty dictionary g to store distances from the start_node\n",
        "    create an empty dictionary parent to store parent nodes when visiting neighbors\n",
        "    Set the parent[start_node] equal to start_node\n",
        "    while the length of the openList greater than zero\n",
        "      set the currentNode equal to the node with the least f value. If there is only one node then equate the current node to it\n",
        "\n",
        "      if currentNode == stop_node or there are no adjacent graph nodes: \n",
        "        pass\n",
        "      else\n",
        "        for every the neighbor (m,weight) in graph_node:\n",
        "          if neighbor node(s) not in the open or closed sets:\n",
        "            add them to the open set\n",
        "            assign each neighbors parents in the parent dictionary \n",
        "            add the edge weights g(n) from the current node with the distance to the neighbor nodes g(m) and set that to be the distance of the neightbor node g(m)\n",
        "          else: \n",
        "            If the neighbor node's g(m) edge weight from the start node is greater than the (edge weight of the current node g(n) + the weight to the neighbor node):\n",
        "              Assign g(m) the lower edge weight\n",
        "              assign the neighbor's parent to the current node\n",
        "              If the neighbor's node was in the closed set:\n",
        "                remove it from the closed set and add it to the open set\n",
        "      if the current node still equals none:\n",
        "        print the path doesn't exist\n",
        "        return nothing to the function      \n",
        "      if currentNode is the goal:\n",
        "        Note: You've found the end! \n",
        "        declare a list called path\n",
        "         while parents[n] != n: \n",
        "          append n to the path\n",
        "          set n equal to parents[n]\n",
        "        append the path to the start the path's start_node as well\n",
        "        Reverse the path list to print it in the right direction\n",
        "        Print the path\n",
        "        return path\n",
        "\n",
        "\n",
        "        \n",
        "      At end of while loop remove the currentNode from the openSet\n",
        "      At end of while loop add the currentNode to the closedSet\n",
        "\n",
        "```\n",
        "\n"
      ]
    },
    {
      "cell_type": "code",
      "metadata": {
        "colab": {
          "base_uri": "https://localhost:8080/"
        },
        "id": "caX6gBemkQZN",
        "outputId": "d6a8bca1-90b1-459b-abe4-7fddbecb5bb3"
      },
      "source": [
        "def aStar(start_node, stop_node):\n",
        "        # g(x) + h(x) = f(x) graph edges + node heuristic distances = function total distance\n",
        "        open_set = set(start_node) \n",
        "        closed_set = set()\n",
        "        g = {} # create empty dictionary to store distance from starting node\n",
        "        parents = {} # create empty dictionary to store parents - parents contains an adjacency map of all nodes\n",
        " \n",
        "        #distance of starting node from itself is zero\n",
        "        g[start_node] = 0 #Edge weight total from the first starting node \n",
        "        \n",
        "        parents[start_node] = start_node #start_node is root node i.e it has no parent nodes so start_node is set to its own parent node\n",
        "         \n",
        "         \n",
        "        while len(open_set) > 0:\n",
        "            n = None\n",
        " \n",
        "            #node with lowest f() ie. functional total distance is found with the for loop below\n",
        "            for v in open_set:\n",
        "\n",
        "                if n == None or (g[v] + heuristic(v) < g[n] + heuristic(n)): # if none pass in that node to the node that will be processed throughout the rest of the function\n",
        "                                                                          #otherwise pass in the node from the open set and if it's f() has the lowest distance\n",
        "                    n = v\n",
        "                    \n",
        "            #print(n)       \n",
        "            if n == stop_node or Graph_nodes[n] == None: # \n",
        "                pass\n",
        "            else:\n",
        "                for (m, weight) in get_neighbors(n): # pass in the graph nodes and their weights of the node your presently working with (n)\n",
        "                    #nodes 'm' not in first and last set are added to first\n",
        "                    #n is set its parent\n",
        "                    if m not in open_set and m not in closed_set: \n",
        "                        open_set.add(m) # Add the child node to the open set that this while loop will loop through\n",
        "                        parents[m] = n # Give the child node it’s parent using the dictionary parents\n",
        "\n",
        "                        g[m] = g[n] + weight     #every next edge_weight_tally = the edge tally all the way up to the child node (not with the heuristic)\n",
        "                         \n",
        "     \n",
        "                    #for each node m,compare its distance from start i.e g(m) to the\n",
        "                    #from start through n node\n",
        "                    else: # see video below for explanation of this part at minute 7:48. Essentially this updates nodes where there's multiple edges to the same child node from different possible parents\n",
        "                        if g[m] > g[n] + weight:\n",
        "                            #update g(m)\n",
        "                            g[m] = g[n] + weight\n",
        "                            #change parent of m to n\n",
        "                            parents[m] = n\n",
        "\n",
        "                             \n",
        "                            #if m in closed set,remove and add to open\n",
        "                            if m in closed_set:\n",
        "                                closed_set.remove(m)\n",
        "                                open_set.add(m)\n",
        " \n",
        "            if n == None:\n",
        "                print('Path does not exist!')\n",
        "                return None\n",
        " \n",
        "            # if the current node is the stop_node\n",
        "            # then we begin reconstructin the path from it to the start_node\n",
        "            if n == stop_node:\n",
        "                path = []\n",
        " \n",
        "                while parents[n] != n: # the while loop appends the path of node going backwards first (goal to start) and then reverses them to show the path going front to back\n",
        "                    path.append(n)\n",
        "                    n = parents[n]\n",
        " \n",
        "                path.append(start_node)\n",
        " \n",
        "                path.reverse()\n",
        " \n",
        "                print('Path found: {}'.format(path))\n",
        "                return path\n",
        " \n",
        " \n",
        "            # remove n from the open_list, and add it to closed_list\n",
        "            # because all of his neighbors were inspected\n",
        "            open_set.remove(n)\n",
        "            closed_set.add(n)\n",
        "            \n",
        " \n",
        "        print('Path does not exist!')\n",
        "        return None\n",
        "         \n",
        "\n",
        "aStar('S', 'G')"
      ],
      "execution_count": null,
      "outputs": [
        {
          "output_type": "stream",
          "text": [
            "Path found: ['S', 'A', 'C', 'F', 'G']\n"
          ],
          "name": "stdout"
        },
        {
          "output_type": "execute_result",
          "data": {
            "text/plain": [
              "['S', 'A', 'C', 'F', 'G']"
            ]
          },
          "metadata": {
            "tags": []
          },
          "execution_count": 9
        }
      ]
    },
    {
      "cell_type": "code",
      "metadata": {
        "colab": {
          "base_uri": "https://localhost:8080/"
        },
        "id": "tgn7B6Bmn2J6",
        "outputId": "3597f471-b090-42ad-db30-575714c452d7"
      },
      "source": [
        "aStar('B', 'G')"
      ],
      "execution_count": null,
      "outputs": [
        {
          "output_type": "stream",
          "text": [
            "Path found: ['B', 'E', 'G']\n"
          ],
          "name": "stdout"
        },
        {
          "output_type": "execute_result",
          "data": {
            "text/plain": [
              "['B', 'E', 'G']"
            ]
          },
          "metadata": {
            "tags": []
          },
          "execution_count": 10
        }
      ]
    }
  ]
}