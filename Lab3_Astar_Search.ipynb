{
  "nbformat": 4,
  "nbformat_minor": 0,
  "metadata": {
    "colab": {
      "name": "Lab3_Astar_Search.ipynb",
      "provenance": [],
      "collapsed_sections": [],
      "authorship_tag": "ABX9TyOMT5x3x3QOUEtzqKCvDSQ1",
      "include_colab_link": true
    },
    "kernelspec": {
      "name": "python3",
      "display_name": "Python 3"
    }
  },
  "cells": [
    {
      "cell_type": "markdown",
      "metadata": {
        "id": "view-in-github",
        "colab_type": "text"
      },
      "source": [
        "<a href=\"https://colab.research.google.com/github/RFHertel/ESOF-4011/blob/main/Lab3_Astar_Search.ipynb\" target=\"_parent\"><img src=\"https://colab.research.google.com/assets/colab-badge.svg\" alt=\"Open In Colab\"/></a>"
      ]
    },
    {
      "cell_type": "markdown",
      "metadata": {
        "id": "Aid-1jcOerOH"
      },
      "source": [
        "A* Search ESOF 4011 Lab1 Solution\r\n",
        "\r\n",
        "Lab Instructor: Robert Hertel"
      ]
    },
    {
      "cell_type": "markdown",
      "metadata": {
        "id": "gu2A48xIhRiO"
      },
      "source": [
        "Note: Please share all links with me in the future by pressing share in the top right corner"
      ]
    },
    {
      "cell_type": "markdown",
      "metadata": {
        "id": "Bt7gG8jggxuE"
      },
      "source": [
        "Introduction Format:\r\n",
        "\r\n",
        "Student Name: Robert Hertel\r\n",
        "\r\n",
        "Sudent ID: XXXXXX\r\n",
        "\r\n",
        "Lab No.: 3 \r\n",
        "\r\n",
        "Colab link: https://colab.research.google.com/drive/1PtFckrpB0H0IQnrxuQM5aJ9zuPVwx1o4#scrollTo=Bt7gG8jggxuE\r\n",
        "\r\n"
      ]
    },
    {
      "cell_type": "markdown",
      "metadata": {
        "id": "yK-lf0_BPmO8"
      },
      "source": [
        "1) Data Structures"
      ]
    },
    {
      "cell_type": "code",
      "metadata": {
        "id": "xR1E9kwWPlPE"
      },
      "source": [
        "#define fuction to return neighbor and its distance\r\n",
        "#from the passed node\r\n",
        "def get_neighbors(v):\r\n",
        "    if v in Graph_nodes:\r\n",
        "        return Graph_nodes[v]\r\n",
        "    else:\r\n",
        "        return None\r\n",
        "#for simplicity we ll consider heuristic distances given\r\n",
        "#and this function returns heuristic distance for all nodes\r\n",
        "def heuristic(n):\r\n",
        "        H_dist = {\r\n",
        "            'S': 9,\r\n",
        "            'A': 8,\r\n",
        "            'B': 6,\r\n",
        "            'C': 7,\r\n",
        "            'D': 4,\r\n",
        "            'E': 6,\r\n",
        "            'F': 3,\r\n",
        "            'G': 0,\r\n",
        "\r\n",
        "           \r\n",
        "        }\r\n",
        " \r\n",
        "        return H_dist[n]\r\n",
        " \r\n",
        "#Describe your graph here  \r\n",
        "Graph_nodes = {\r\n",
        "    'S': [('A', 1),('B', 5)],\r\n",
        "    'A': [('B', 2),('C', 3),('D', 4)],\r\n",
        "    'B': [('D', 3),('E', 3)],\r\n",
        "    'C': [('B', 4),('F', 5) ],\r\n",
        "    'D': [('F', 6)],\r\n",
        "    'E': [('D', 6),('G', 10)],\r\n",
        "    'F': [('G', 5)],\r\n",
        "  \r\n",
        "}"
      ],
      "execution_count": 30,
      "outputs": []
    },
    {
      "cell_type": "markdown",
      "metadata": {
        "id": "Vl_XsnHBkQ24"
      },
      "source": [
        "2) Algorithm Development\r\n",
        "\r\n",
        "PseudoCode:\r\n",
        "\r\n",
        "\r\n",
        "    let the openList equal empty list of nodes\r\n",
        "    let the closedList equal empty list of nodes\r\n",
        "    put the startNode on the openList (leave it's f at zero)\r\n",
        "    create an empty dictionary g to store distances from the start node\r\n",
        "    create an empty dictionary parent to store parent nodes when visiting neighbors\r\n",
        "    while the openList is not empty\r\n",
        "      set the currentNode equal the node with the least f value. If there is only one node add that to the current node\r\n",
        "      if currentNode == stop_node or there are no adjacent graph nodes: \r\n",
        "        pass\r\n",
        "      else\r\n",
        "        for every the neighbor in graph_node:\r\n",
        "          if not in the open or closed sets:\r\n",
        "            add them to the open set\r\n",
        "            add every neighbors parent to be the current node in the parent dictionary \r\n",
        "            add the edge weights to the neighbor nodes in store them in the g(distances) dictionary\r\n",
        "          else: \r\n",
        "            updates nodes where there's multiple edges to the same child node from different possible parents that were in the open or closed set and put closed set ones back in the open set.\r\n",
        "\r\n",
        "      if currentNode is the goal:\r\n",
        "        You've found the end! Print it! \r\n",
        "      remove the currentNode from the openSet\r\n",
        "      add the currentNode to the closedSet\r\n",
        "        \r\n",
        "\r\n"
      ]
    },
    {
      "cell_type": "code",
      "metadata": {
        "colab": {
          "base_uri": "https://localhost:8080/"
        },
        "id": "caX6gBemkQZN",
        "outputId": "4259e948-d9fd-49dd-e750-c12817df01d0"
      },
      "source": [
        "def aStar(start_node, stop_node):\r\n",
        "        # g(x) + h(x) = f(x) graph edges + node heuristic distances = function total distance\r\n",
        "        open_set = set(start_node) \r\n",
        "        closed_set = set()\r\n",
        "        g = {} # create empty dictionary to store distance from starting node\r\n",
        "        parents = {} # create empty dictionary to store parents - parents contains an adjacency map of all nodes\r\n",
        " \r\n",
        "        #distance of starting node from itself is zero\r\n",
        "        g[start_node] = 0 #Edge weight total from the first starting node \r\n",
        "        \r\n",
        "        parents[start_node] = start_node #start_node is root node i.e it has no parent nodes so start_node is set to its own parent node\r\n",
        "         \r\n",
        "         \r\n",
        "        while len(open_set) > 0:\r\n",
        "            n = None\r\n",
        " \r\n",
        "            #node with lowest f() ie. functional total distance is found with the for loop below\r\n",
        "            for v in open_set:\r\n",
        "\r\n",
        "                if n == None or (g[v] + heuristic(v) < g[n] + heuristic(n)): # if none pass in that node to the node that will be processed throughout the rest of the function\r\n",
        "                                                                          #otherwise pass in the node from the open set and if it's f() has the lowest distance\r\n",
        "                    n = v\r\n",
        "                    \r\n",
        "            #print(n)       \r\n",
        "            if n == stop_node or Graph_nodes[n] == None: # \r\n",
        "                pass\r\n",
        "            else:\r\n",
        "                for (m, weight) in get_neighbors(n): # pass in the graph nodes and their weights of the node your presently working with (n)\r\n",
        "                    #nodes 'm' not in first and last set are added to first\r\n",
        "                    #n is set its parent\r\n",
        "                    if m not in open_set and m not in closed_set: \r\n",
        "                        open_set.add(m) # Add the child node to the open set that this while loop will loop through\r\n",
        "                        parents[m] = n # Give the child node it’s parent using the dictionary parents\r\n",
        "\r\n",
        "                        g[m] = g[n] + weight     #every next edge_weight_tally = the edge tally all the way up to the child node (not with the heuristic)\r\n",
        "                         \r\n",
        "     \r\n",
        "                    #for each node m,compare its distance from start i.e g(m) to the\r\n",
        "                    #from start through n node\r\n",
        "                    else: # see video below for explanation of this part at minute 7:48. Essentially this updates nodes where there's multiple edges to the same child node from different possible parents\r\n",
        "                        if g[m] > g[n] + weight:\r\n",
        "                            #update g(m)\r\n",
        "                            g[m] = g[n] + weight\r\n",
        "                            #change parent of m to n\r\n",
        "                            parents[m] = n\r\n",
        "\r\n",
        "                             \r\n",
        "                            #if m in closed set,remove and add to open\r\n",
        "                            if m in closed_set:\r\n",
        "                                closed_set.remove(m)\r\n",
        "                                open_set.add(m)\r\n",
        " \r\n",
        "            if n == None:\r\n",
        "                print('Path does not exist!')\r\n",
        "                return None\r\n",
        " \r\n",
        "            # if the current node is the stop_node\r\n",
        "            # then we begin reconstructin the path from it to the start_node\r\n",
        "            if n == stop_node:\r\n",
        "                path = []\r\n",
        " \r\n",
        "                while parents[n] != n: # the wile loop appends the path of node going backwards first (goal to start) and then reverses them to show the path going front to back\r\n",
        "                    path.append(n)\r\n",
        "                    n = parents[n]\r\n",
        " \r\n",
        "                path.append(start_node)\r\n",
        " \r\n",
        "                path.reverse()\r\n",
        " \r\n",
        "                print('Path found: {}'.format(path))\r\n",
        "                return path\r\n",
        " \r\n",
        " \r\n",
        "            # remove n from the open_list, and add it to closed_list\r\n",
        "            # because all of his neighbors were inspected\r\n",
        "            open_set.remove(n)\r\n",
        "            closed_set.add(n)\r\n",
        " \r\n",
        "        print('Path does not exist!')\r\n",
        "        return None\r\n",
        "         \r\n",
        "\r\n",
        "aStar('S', 'G')"
      ],
      "execution_count": 37,
      "outputs": [
        {
          "output_type": "stream",
          "text": [
            "Path found: ['S', 'A', 'C', 'F', 'G']\n"
          ],
          "name": "stdout"
        },
        {
          "output_type": "execute_result",
          "data": {
            "text/plain": [
              "['S', 'A', 'C', 'F', 'G']"
            ]
          },
          "metadata": {
            "tags": []
          },
          "execution_count": 37
        }
      ]
    },
    {
      "cell_type": "code",
      "metadata": {
        "colab": {
          "base_uri": "https://localhost:8080/"
        },
        "id": "tgn7B6Bmn2J6",
        "outputId": "8286465e-7061-4f2f-9881-0b38abc159a3"
      },
      "source": [
        "aStar('S', 'G')"
      ],
      "execution_count": 38,
      "outputs": [
        {
          "output_type": "stream",
          "text": [
            "Path found: ['S', 'A', 'C', 'F', 'G']\n"
          ],
          "name": "stdout"
        },
        {
          "output_type": "execute_result",
          "data": {
            "text/plain": [
              "['S', 'A', 'C', 'F', 'G']"
            ]
          },
          "metadata": {
            "tags": []
          },
          "execution_count": 38
        }
      ]
    }
  ]
}