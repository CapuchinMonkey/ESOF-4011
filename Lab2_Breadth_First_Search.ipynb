{
  "nbformat": 4,
  "nbformat_minor": 0,
  "metadata": {
    "colab": {
      "name": "Lab2_Breadth First Search.ipynb",
      "provenance": [],
      "collapsed_sections": [],
      "authorship_tag": "ABX9TyOnfTtjTiy79w3tyYHxgIjT",
      "include_colab_link": true
    },
    "kernelspec": {
      "name": "python3",
      "display_name": "Python 3"
    }
  },
  "cells": [
    {
      "cell_type": "markdown",
      "metadata": {
        "id": "view-in-github",
        "colab_type": "text"
      },
      "source": [
        "<a href=\"https://colab.research.google.com/github/RFHertz/ESOF-4011/blob/main/Lab2_Breadth_First_Search.ipynb\" target=\"_parent\"><img src=\"https://colab.research.google.com/assets/colab-badge.svg\" alt=\"Open In Colab\"/></a>"
      ]
    },
    {
      "cell_type": "markdown",
      "metadata": {
        "id": "AGkPwNcwfBgC"
      },
      "source": [
        "Breadth First Search ESOF 4011 Lab2 Solution\r\n",
        "\r\n",
        "Lab Insructor: Robert Hertel"
      ]
    },
    {
      "cell_type": "markdown",
      "metadata": {
        "id": "gu2A48xIhRiO"
      },
      "source": [
        "Note: Please share all links with me in the future by pressing share in the top right corner"
      ]
    },
    {
      "cell_type": "markdown",
      "metadata": {
        "id": "Bt7gG8jggxuE"
      },
      "source": [
        "Introduction Format:\r\n",
        "\r\n",
        "Student Name: Robert Hertel\r\n",
        "\r\n",
        "Sudent ID: XXXXXX\r\n",
        "\r\n",
        "Lab No.: 2a\r\n",
        "\r\n",
        "Colab link: https://colab.research.google.com/drive/1sLfkE0mPxz4_jUgjWN6ZtDvuQjWcqHhk#scrollTo=Bt7gG8jggxuE\r\n",
        "\r\n"
      ]
    },
    {
      "cell_type": "markdown",
      "metadata": {
        "id": "Di5X34jB0Ik9"
      },
      "source": [
        "1) Data Structure"
      ]
    },
    {
      "cell_type": "code",
      "metadata": {
        "id": "Gjam-mi8sdUs"
      },
      "source": [
        "graph_assignment_2a = {\r\n",
        "    'A' : ['B','C'],\r\n",
        "    'B' : ['D','I'],\r\n",
        "    'C' : ['F','H'],\r\n",
        "    'D' : ['E'],\r\n",
        "    'E' : ['G'],\r\n",
        "    'F' : [],\r\n",
        "    'G' : [],\r\n",
        "    'H' : [],\r\n",
        "    'I' : ['J'],\r\n",
        "    'J' : [],\r\n",
        "\r\n",
        "\r\n",
        "}"
      ],
      "execution_count": null,
      "outputs": []
    },
    {
      "cell_type": "markdown",
      "metadata": {
        "id": "pIi1V4mFUdbN"
      },
      "source": [
        "2) Networkx Solution"
      ]
    },
    {
      "cell_type": "code",
      "metadata": {
        "id": "QcuIPyDRUd1v"
      },
      "source": [
        "import networkx as nx\r\n",
        "\r\n",
        "G = nx.Graph()\r\n",
        "G.add_nodes_from(['A','B','C','D','E','F','G','H','I','J']) #add multiple nodes\r\n",
        "G.add_edge('A','B')\r\n",
        "G.add_edge('A','C')\r\n",
        "G.add_edge('B','D')\r\n",
        "G.add_edge('B','I')\r\n",
        "G.add_edge('D','E')\r\n",
        "G.add_edge('E','G')\r\n",
        "G.add_edge('C','F')\r\n",
        "G.add_edge('C','H')\r\n",
        "G.add_edge('I','J')\r\n",
        "\r\n",
        "\r\n",
        "\r\n"
      ],
      "execution_count": null,
      "outputs": []
    },
    {
      "cell_type": "code",
      "metadata": {
        "colab": {
          "base_uri": "https://localhost:8080/",
          "height": 319
        },
        "id": "SakogL9VWo85",
        "outputId": "65011f76-9d32-4716-e313-77e2fe5d8b41"
      },
      "source": [
        "import matplotlib.pyplot as plt\r\n",
        "\r\n",
        "nx.draw(G, with_labels=True, font_weight='bold')\r\n",
        "\r\n",
        "plt.show()"
      ],
      "execution_count": null,
      "outputs": [
        {
          "output_type": "display_data",
          "data": {
            "image/png": "[encoded data removed]",
            "text/plain": [
              "<Figure size 432x288 with 1 Axes>"
            ]
          },
          "metadata": {
            "tags": []
          }
        }
      ]
    },
    {
      "cell_type": "markdown",
      "metadata": {
        "id": "K8DsAuS2UzG5"
      },
      "source": [
        "3) Algorithm Development\r\n",
        "\r\n",
        "Pseudo Code\r\n",
        "\r\n",
        "    Queue = start node\r\n",
        "    Visited_set = empty set\r\n",
        "\r\n",
        "    While queue != empty\r\n",
        "  \r\n",
        "      node = node # off end of the queue\r\n",
        "      print(node)\r\n",
        "      if node not in visited_set: \r\n",
        "    \r\n",
        "        visited = visited set with appended node\r\n",
        "\r\n",
        "    \r\n",
        "        for loop through neighbors in graph[at current node]:\r\n",
        "      \r\n",
        "          if neighbor not in visited_set:\r\n",
        "              queue = queue with neighbor appended to the beginning of the queue\r\n"
      ]
    },
    {
      "cell_type": "markdown",
      "metadata": {
        "id": "l329Mb9HGYXy"
      },
      "source": [
        "Breadth-First Search Algorithm"
      ]
    },
    {
      "cell_type": "markdown",
      "metadata": {
        "id": "Sd2GsnM2ewLu"
      },
      "source": [
        "Note: Inserting at the beginning of the queue allows for popping at the end of it"
      ]
    },
    {
      "cell_type": "code",
      "metadata": {
        "id": "4kJ27B79Un2h"
      },
      "source": [
        "def bfs(graph, start): # Create bfs Function\r\n",
        "    \"\"\"\r\n",
        "    Returns the BFS graph from the start node\r\n",
        "    :param graph: The graph being searched\r\n",
        "    :param start: The node the search algorithm begins at\r\n",
        "    \"\"\"\r\n",
        "    visited = set() #Showing how to make a set of visited nodes\r\n",
        "    queue = [start] # Start of queue should be letter initially assigned\r\n",
        "\r\n",
        "    while queue:\r\n",
        "\r\n",
        "        node = queue.pop() # Using the pop method to one at a time take one node of the end of the end of the queue and assign it to the current 'node' if the queue has its nodes inserted at the beginning of the queue the end of the queue represents the start of it\r\n",
        "        print (node)\r\n",
        "        print (queue)    # For troubleshooting to see the queue\r\n",
        "        print (visited)  # For troubleshooting to see the set of nodes visited\r\n",
        "        if node not in visited: # If the node is not in the set of nodes that have been visited perform the following\r\n",
        "            visited.add(node) # Add the node to the visited list\r\n",
        "            for neighbor in graph[node]: # Find all the adjacent nodes in the graph\r\n",
        "                if neighbor not in visited: # If the node that's adjacent hasn't been visited append it to the beginning of the queue\r\n",
        "                    queue.insert(0, neighbor)\r\n",
        "                    "
      ],
      "execution_count": null,
      "outputs": []
    },
    {
      "cell_type": "code",
      "metadata": {
        "colab": {
          "base_uri": "https://localhost:8080/"
        },
        "id": "MCn7vVoxYQOl",
        "outputId": "64f85f77-7bc6-4e51-c5d1-e2966873c0c9"
      },
      "source": [
        "bfs(graph_assignment_2a,'A')"
      ],
      "execution_count": null,
      "outputs": [
        {
          "output_type": "stream",
          "text": [
            "A\n",
            "[]\n",
            "set()\n",
            "B\n",
            "['C']\n",
            "{'A'}\n",
            "C\n",
            "['I', 'D']\n",
            "{'A', 'B'}\n",
            "D\n",
            "['H', 'F', 'I']\n",
            "{'A', 'B', 'C'}\n",
            "I\n",
            "['E', 'H', 'F']\n",
            "{'A', 'B', 'C', 'D'}\n",
            "F\n",
            "['J', 'E', 'H']\n",
            "{'C', 'B', 'D', 'I', 'A'}\n",
            "H\n",
            "['J', 'E']\n",
            "{'C', 'B', 'D', 'I', 'A', 'F'}\n",
            "E\n",
            "['J']\n",
            "{'H', 'C', 'B', 'D', 'I', 'A', 'F'}\n",
            "J\n",
            "['G']\n",
            "{'H', 'C', 'B', 'D', 'E', 'I', 'A', 'F'}\n",
            "G\n",
            "[]\n",
            "{'H', 'C', 'B', 'D', 'E', 'J', 'I', 'A', 'F'}\n"
          ],
          "name": "stdout"
        }
      ]
    },
    {
      "cell_type": "code",
      "metadata": {
        "colab": {
          "base_uri": "https://localhost:8080/"
        },
        "id": "D3Byiuj8w7o0",
        "outputId": "b6b66612-456d-467f-ee5d-fe6ab25cf190"
      },
      "source": [
        "bfs(graph_assignment_2a,'C')"
      ],
      "execution_count": null,
      "outputs": [
        {
          "output_type": "stream",
          "text": [
            "C\n",
            "[]\n",
            "set()\n",
            "F\n",
            "['H']\n",
            "{'C'}\n",
            "H\n",
            "[]\n",
            "{'C', 'F'}\n"
          ],
          "name": "stdout"
        }
      ]
    },
    {
      "cell_type": "code",
      "metadata": {
        "colab": {
          "base_uri": "https://localhost:8080/"
        },
        "id": "L_AxKBj-xF34",
        "outputId": "5ad2cd43-1517-413e-a349-6bd144875d5b"
      },
      "source": [
        "bfs(graph_assignment_2a,'B')"
      ],
      "execution_count": null,
      "outputs": [
        {
          "output_type": "stream",
          "text": [
            "B\n",
            "[]\n",
            "set()\n",
            "D\n",
            "['I']\n",
            "{'B'}\n",
            "I\n",
            "['E']\n",
            "{'D', 'B'}\n",
            "E\n",
            "['J']\n",
            "{'D', 'B', 'I'}\n",
            "J\n",
            "['G']\n",
            "{'E', 'D', 'B', 'I'}\n",
            "G\n",
            "[]\n",
            "{'B', 'E', 'J', 'I', 'D'}\n"
          ],
          "name": "stdout"
        }
      ]
    },
    {
      "cell_type": "markdown",
      "metadata": {
        "id": "wTjMPoHzzEK1"
      },
      "source": [
        "With a Goal State"
      ]
    },
    {
      "cell_type": "code",
      "metadata": {
        "id": "qJxj4DyjzDZl"
      },
      "source": [
        "def bfs_goal(graph, start, goal): # Create bfs Function\r\n",
        "    \"\"\"\r\n",
        "    Returns the BFS graph from the start node\r\n",
        "    :param graph: The graph being searched\r\n",
        "    :param start: The node the search algorithm begins at\r\n",
        "    :param goal: The node the search algorithm end at\r\n",
        "    \"\"\"\r\n",
        "    visited = set() #Showing how to make a set of visited nodes\r\n",
        "    queue = [start] # Start of queue should be letter initially assigned\r\n",
        "\r\n",
        "    while queue:\r\n",
        "\r\n",
        "        node = queue.pop() # Using the pop method to one at a time take one node of the end of the end of the queue and assign it to the current 'node' if the queue has its nodes inserted at the beginning of the queue the end of the queue represents the start of it\r\n",
        "        print (node)\r\n",
        "        print (queue)    # For troubleshooting to see the queue\r\n",
        "        print (visited)  # For troubleshooting to see the set of nodes visited\r\n",
        "        if node not in visited: # If the node is not in the set of nodes that have been visited perform the following\r\n",
        "            visited.add(node) # Add the node to the visited list\r\n",
        "            if node == goal: # If have not reached desired goal continue\r\n",
        "                print (visited) # If met desired goal show last node in visited troubleshooting list\r\n",
        "                return\r\n",
        "            for neighbor in graph[node]: # Find all the adjacent nodes in the graph\r\n",
        "                if neighbor not in visited: # If the node that's adjacent hasn't been visited append it to the beginning of the queue\r\n",
        "                    queue.insert(0, neighbor)"
      ],
      "execution_count": null,
      "outputs": []
    },
    {
      "cell_type": "code",
      "metadata": {
        "colab": {
          "base_uri": "https://localhost:8080/"
        },
        "id": "E8IUl8lrz1gK",
        "outputId": "10f972ff-0add-439c-f2cb-e9a32b7f3f11"
      },
      "source": [
        "bfs_goal(graph_assignment_2a,'B','J')"
      ],
      "execution_count": null,
      "outputs": [
        {
          "output_type": "stream",
          "text": [
            "B\n",
            "[]\n",
            "set()\n",
            "D\n",
            "['I']\n",
            "{'B'}\n",
            "I\n",
            "['E']\n",
            "{'D', 'B'}\n",
            "E\n",
            "['J']\n",
            "{'D', 'B', 'I'}\n",
            "J\n",
            "['G']\n",
            "{'E', 'D', 'B', 'I'}\n",
            "{'B', 'E', 'J', 'I', 'D'}\n"
          ],
          "name": "stdout"
        }
      ]
    },
    {
      "cell_type": "markdown",
      "metadata": {
        "id": "f4xZl80PHe64"
      },
      "source": [
        "Assignment for Quick Reference:\r\n",
        "\r\n",
        "Objective: This lab exercise is intended for students to demonstrate their ability in handling various data structures, visualization, and algorithm design and implementation in Python programming language. \r\n",
        "Deliverables:\r\n",
        "1-\tStudents must complete the given task and submit their well-documented source code and results. \r\n",
        "2-\tThe code must be written following modular programming technique. \r\n",
        "3-\tThe submission lab file (PDF format) must include an accessible link to the student’s script on the Google Colab.\r\n",
        "Note – Follow the given sample submission file: \r\n",
        "(Sample_modular_coding_and_documentation.ipynb – Colaboratory.pdf. You can generate such pdf file using ctrl+P  Save as option)\r\n",
        "\r\n",
        "Software/hardware paradigm: Python/ Google Colab\r\n",
        "\r\n",
        "Task Set A: Design and implement the breadth-first searching algorithm.\r\n",
        "1.\tCreate a data structure to hold a directed graph that has the following nine edges: \r\n",
        "AB, AC, BD, BI, CF, CH, DE, EG, IJ\r\n",
        "\r\n",
        "Tips: Use adjacency list in the Python dictionary\r\n",
        "\r\n",
        "2.\tPerform a visualization of directed graph like the one shown in Fig. 1.\r\n",
        " \r\n",
        " ![image.png](data:image/png;base64,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)\r\n",
        " \r\n",
        "Figure 1: A directed graph to be used for lab 2 Task A.\r\n",
        "\r\n",
        "Tips: Use pyplot and networkx Python libraries. \r\n",
        "\r\n",
        "3.\tAlgorithm development\r\n",
        "i.\tWrite a pseudocode of a breadth-first search algorithm.\r\n",
        "ii.\tWrite Python code that takes the data structure of the graph and a detail of an initial or source node and returns the traversal (the sequence of non-visited nodes to be visited) of breadth-first search algorithm. \r\n",
        "iii.\tFor example, calling of the function myBFS(graph, \"A\") would return A->B->C->D->I->F->H->E->J->G. Similarly, myBFS(graph, \"C\") would return C->F->H, where myBFS() is the user written function that takes two arguments: graph, and a source node. \r\n",
        "iv.\tTest your algorithm for the source nodes “A”, “C”, and “B”. Justify the solutions generated by your program. \r\n",
        "v.\tWrite the breadth-first search algorithm to have the option to end at a goal state\r\n",
        "vi.\tTest your algorithm. Start with the ‘A’ state and set the goal state to be ‘E’. Calling it would return A->B->C->D->I->F->H->E\r\n",
        "vii.\tTest your algorithm with source node “B” and goal node “J”. Justify your answer\r\n",
        "\r\n",
        "Tips:  \r\n",
        "i.\tUse a queue and a list or set to keep track of the visited nodes. \r\n",
        "ii.\tUse stack operations, such as .pop(), .append() in Python.\r\n",
        "\r\n",
        "\r\n"
      ]
    }
  ]
}