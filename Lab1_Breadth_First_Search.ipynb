{
  "nbformat": 4,
  "nbformat_minor": 0,
  "metadata": {
    "colab": {
      "name": "Lab1_Breadth First Search.ipynb",
      "provenance": [],
      "collapsed_sections": [],
      "authorship_tag": "ABX9TyOgASBEBpvhV7dA8ELN6n1J",
      "include_colab_link": true
    },
    "kernelspec": {
      "name": "python3",
      "display_name": "Python 3"
    }
  },
  "cells": [
    {
      "cell_type": "markdown",
      "metadata": {
        "id": "view-in-github",
        "colab_type": "text"
      },
      "source": [
        "<a href=\"https://colab.research.google.com/github/robhertel/ESOF-4011/blob/main/Lab1_Breadth_First_Search.ipynb\" target=\"_parent\"><img src=\"https://colab.research.google.com/assets/colab-badge.svg\" alt=\"Open In Colab\"/></a>"
      ]
    },
    {
      "cell_type": "markdown",
      "metadata": {
        "id": "ErACsKp9R6XE"
      },
      "source": [
        "Breadth First Search"
      ]
    },
    {
      "cell_type": "markdown",
      "metadata": {
        "id": "YykEySnmR622"
      },
      "source": [
        "![image.png](data:image/png;base64,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)"
      ]
    },
    {
      "cell_type": "markdown",
      "metadata": {
        "id": "2ET-5J5kdKz4"
      },
      "source": [
        "Without a Goal"
      ]
    },
    {
      "cell_type": "code",
      "metadata": {
        "colab": {
          "base_uri": "https://localhost:8080/"
        },
        "id": "YJsPBL3pR7Uq",
        "outputId": "b7beee39-5108-401a-e2ea-cb2e084f113e"
      },
      "source": [
        "graph = {\r\n",
        "  'A' : ['B','C'],\r\n",
        "  'B' : ['D', 'E'],\r\n",
        "  'C' : ['F'],\r\n",
        "  'D' : [],\r\n",
        "  'E' : ['F'],\r\n",
        "  'F' : []\r\n",
        "}\r\n",
        "\r\n",
        "visited = [] # List to keep track of visited nodes.\r\n",
        "queue = []     #Initialize a queue\r\n",
        "\r\n",
        "def bfs(visited, graph, node):\r\n",
        "  visited.append(node)\r\n",
        "  queue.append(node)\r\n",
        "  \r\n",
        "  while queue:\r\n",
        "    s = queue.pop(0) \r\n",
        "    print (s, end = \" \") \r\n",
        "    print (visited)\r\n",
        "\r\n",
        "    for neighbour in graph[s]:\r\n",
        "      if neighbour not in visited:\r\n",
        "        visited.append(neighbour)\r\n",
        "        queue.append(neighbour)\r\n",
        "\r\n",
        "# Driver Code\r\n",
        "bfs(visited, graph, 'A')"
      ],
      "execution_count": 2,
      "outputs": [
        {
          "output_type": "stream",
          "text": [
            "A ['A']\n",
            "B ['A', 'B', 'C']\n",
            "C ['A', 'B', 'C', 'D', 'E']\n",
            "D ['A', 'B', 'C', 'D', 'E', 'F']\n",
            "E ['A', 'B', 'C', 'D', 'E', 'F']\n",
            "F ['A', 'B', 'C', 'D', 'E', 'F']\n"
          ],
          "name": "stdout"
        }
      ]
    },
    {
      "cell_type": "markdown",
      "metadata": {
        "id": "A5_tCz6EdOqg"
      },
      "source": [
        "With a Goal"
      ]
    },
    {
      "cell_type": "markdown",
      "metadata": {
        "id": "Sd2GsnM2ewLu"
      },
      "source": [
        "Note: Inserting at the beginning of the queue allows for popping at the end of it"
      ]
    },
    {
      "cell_type": "code",
      "metadata": {
        "id": "g13dYx7wfNGR"
      },
      "source": [
        "small_graph = {'A': ['B', 'C', 'D'], 'B':[], 'C':[], 'D':['E'], 'E':[]}"
      ],
      "execution_count": 9,
      "outputs": []
    },
    {
      "cell_type": "code",
      "metadata": {
        "id": "4kJ27B79Un2h"
      },
      "source": [
        "def bfs_2(graph, start, goal_2):\r\n",
        "    visited_2 = set()\r\n",
        "    queue_2 = [start]\r\n",
        "\r\n",
        "    while queue_2:\r\n",
        "        print (queue_2)\r\n",
        "        node_2 = queue_2.pop()\r\n",
        "        print (node_2)\r\n",
        "        print (visited_2)\r\n",
        "        \r\n",
        "        if node_2 not in visited_2:\r\n",
        "            visited_2.add(node_2)\r\n",
        "            if node_2 == goal_2:\r\n",
        "                print (visited_2)\r\n",
        "                return\r\n",
        "            for neighbor_2 in graph[node_2]:\r\n",
        "                if neighbor_2 not in visited_2:\r\n",
        "                    queue_2.insert(0, neighbor_2)\r\n",
        "                    "
      ],
      "execution_count": 34,
      "outputs": []
    },
    {
      "cell_type": "code",
      "metadata": {
        "colab": {
          "base_uri": "https://localhost:8080/"
        },
        "id": "MCn7vVoxYQOl",
        "outputId": "109376e9-a4de-490e-9bd5-16edd34a3b62"
      },
      "source": [
        "bfs_2(graph,'A','E')"
      ],
      "execution_count": 36,
      "outputs": [
        {
          "output_type": "stream",
          "text": [
            "['A']\n",
            "A\n",
            "set()\n",
            "['C', 'B']\n",
            "B\n",
            "{'A'}\n",
            "['E', 'D', 'C']\n",
            "C\n",
            "{'A', 'B'}\n",
            "['F', 'E', 'D']\n",
            "D\n",
            "{'A', 'B', 'C'}\n",
            "['F', 'E']\n",
            "E\n",
            "{'A', 'B', 'C', 'D'}\n",
            "{'A', 'E', 'C', 'D', 'B'}\n"
          ],
          "name": "stdout"
        }
      ]
    }
  ]
}