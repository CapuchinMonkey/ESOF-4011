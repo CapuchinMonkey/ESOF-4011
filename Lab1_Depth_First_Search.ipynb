{
  "nbformat": 4,
  "nbformat_minor": 0,
  "metadata": {
    "colab": {
      "name": "Lab1_Depth_First_Search.ipynb",
      "provenance": [],
      "collapsed_sections": [],
      "authorship_tag": "ABX9TyPyK0E/3fPbb5JJltM0xDTT",
      "include_colab_link": true
    },
    "kernelspec": {
      "name": "python3",
      "display_name": "Python 3"
    }
  },
  "cells": [
    {
      "cell_type": "markdown",
      "metadata": {
        "id": "view-in-github",
        "colab_type": "text"
      },
      "source": [
        "<a href=\"https://colab.research.google.com/github/robhertel/ESOF-4011/blob/main/Lab1_Depth_First_Search.ipynb\" target=\"_parent\"><img src=\"https://colab.research.google.com/assets/colab-badge.svg\" alt=\"Open In Colab\"/></a>"
      ]
    },
    {
      "cell_type": "markdown",
      "metadata": {
        "id": "Aid-1jcOerOH"
      },
      "source": [
        "Depth First Search ESOF 4011 Lab1 Solution\r\n",
        "\r\n",
        "Lab Instructor: Robert Hertel"
      ]
    },
    {
      "cell_type": "markdown",
      "metadata": {
        "id": "BEP0jnGVebKa"
      },
      "source": [
        "1) Data Structure"
      ]
    },
    {
      "cell_type": "code",
      "metadata": {
        "id": "MRVgJYP0S1r4"
      },
      "source": [
        "graph_assignment_1 = {\r\n",
        "    'A' : ['B','C','D'],\r\n",
        "    'B' : ['E'],\r\n",
        "    'C' : ['F','G'],\r\n",
        "    'D' : ['H'],\r\n",
        "    'E' : ['I'],\r\n",
        "    'F' : ['J'],\r\n",
        "    'G' : [],\r\n",
        "    'H' : [],\r\n",
        "    'I' : [],\r\n",
        "    'J' : [],\r\n",
        "\r\n",
        "\r\n",
        "}"
      ],
      "execution_count": null,
      "outputs": []
    },
    {
      "cell_type": "markdown",
      "metadata": {
        "id": "pIi1V4mFUdbN"
      },
      "source": [
        "2) Networkx Solution"
      ]
    },
    {
      "cell_type": "code",
      "metadata": {
        "id": "QcuIPyDRUd1v"
      },
      "source": [
        "import networkx as nx\r\n",
        "\r\n",
        "G = nx.Graph()\r\n",
        "G.add_nodes_from(['A','B','C','D','E','F','G','H','I','J']) #add multiple nodes\r\n",
        "G.add_edge('A','B')\r\n",
        "G.add_edge('B','E')\r\n",
        "G.add_edge('E','I')\r\n",
        "G.add_edge('A','C')\r\n",
        "G.add_edge('C','G')\r\n",
        "G.add_edge('C','F')\r\n",
        "G.add_edge('F','J')\r\n",
        "G.add_edge('A','D')\r\n",
        "G.add_edge('D','H')\r\n",
        "\r\n",
        "\r\n"
      ],
      "execution_count": 25,
      "outputs": []
    },
    {
      "cell_type": "code",
      "metadata": {
        "colab": {
          "base_uri": "https://localhost:8080/",
          "height": 319
        },
        "id": "SakogL9VWo85",
        "outputId": "ee98a242-7cc3-4c5d-f58c-44a954efc88e"
      },
      "source": [
        "import matplotlib.pyplot as plt\r\n",
        "\r\n",
        "nx.draw(G, with_labels=True, font_weight='bold')\r\n",
        "\r\n",
        "plt.show()"
      ],
      "execution_count": null,
      "outputs": [
        {
          "output_type": "display_data",
          "data": {
            "image/png": "[encoded data removed]",
            "text/plain": [
              "<Figure size 432x288 with 1 Axes>"
            ]
          },
          "metadata": {
            "tags": []
          }
        }
      ]
    },
    {
      "cell_type": "markdown",
      "metadata": {
        "id": "K8DsAuS2UzG5"
      },
      "source": [
        "3i) Pseudo Code\r\n",
        "\r\n",
        "    Stack = start node\r\n",
        "    Visited_set = empty set\r\n",
        "\r\n",
        "    While stack != empty\r\n",
        "  \r\n",
        "      node = node # off end of the stack\r\n",
        "  \r\n",
        "      if node not in visited_set: \r\n",
        "    \r\n",
        "        visited = visited with appended node\r\n",
        "   \r\n",
        "          print(node)\r\n",
        "    \r\n",
        "          for neighbor in graph:\r\n",
        "      \r\n",
        "          if neighbor not in visited_set:\r\n",
        "              Stack.append(every_neighbor)\r\n"
      ]
    },
    {
      "cell_type": "markdown",
      "metadata": {
        "id": "R4yqQv2FaHlN"
      },
      "source": [
        "3ii) Depth First Search - Actual Lab1 Solution"
      ]
    },
    {
      "cell_type": "code",
      "metadata": {
        "id": "vqn40_epobFO"
      },
      "source": [
        "def dfs(graph, start): # Create dfs Function\r\n",
        "    visited = set() #Showing how to make a set of visited nodes\r\n",
        "    stack = [start] # Start of stack should be letter initially assigned\r\n",
        "\r\n",
        "    while stack:    # While loop that is iteratively looping through the nodes that get added to the stack\r\n",
        "        node = stack.pop()   # Using the pop method to one at a time take one node of the end of the stack and assign it to the current 'node'\r\n",
        "        if node not in visited:  # If the node is not in the set of nodes that have been visited perform the following\r\n",
        "            visited.add(node)   # Add the node to the visited list\r\n",
        "            print (node)          #Print the node to meet the condition in the assignment for recording the visted nodes\r\n",
        "            print (visited)     # For troubleshooting to see the set of nodes visited\r\n",
        "            for neighbor in graph[node]: # Find all the adjacent nodes in the graph\r\n",
        "                if neighbor not in visited: # If the node that's adjacent hasn't been visited append it to the stack\r\n",
        "                    stack.append(neighbor)\r\n",
        "\r\n",
        "\r\n",
        "    "
      ],
      "execution_count": 24,
      "outputs": []
    },
    {
      "cell_type": "code",
      "metadata": {
        "colab": {
          "base_uri": "https://localhost:8080/"
        },
        "id": "AaTx_mZuodxm",
        "outputId": "456b27aa-c125-4ab1-abd6-3029d092fb4b"
      },
      "source": [
        "dfs(graph_assignment_1,'A')"
      ],
      "execution_count": 26,
      "outputs": [
        {
          "output_type": "stream",
          "text": [
            "A\n",
            "{'A'}\n",
            "D\n",
            "{'A', 'D'}\n",
            "H\n",
            "{'A', 'D', 'H'}\n",
            "C\n",
            "{'A', 'C', 'D', 'H'}\n",
            "G\n",
            "{'A', 'H', 'C', 'G', 'D'}\n",
            "F\n",
            "{'A', 'H', 'C', 'G', 'F', 'D'}\n",
            "J\n",
            "{'A', 'J', 'H', 'C', 'G', 'F', 'D'}\n",
            "B\n",
            "{'A', 'J', 'B', 'H', 'C', 'G', 'F', 'D'}\n",
            "E\n",
            "{'A', 'J', 'B', 'H', 'E', 'C', 'G', 'F', 'D'}\n",
            "I\n",
            "{'A', 'J', 'B', 'H', 'E', 'C', 'G', 'F', 'I', 'D'}\n"
          ],
          "name": "stdout"
        }
      ]
    },
    {
      "cell_type": "code",
      "metadata": {
        "colab": {
          "base_uri": "https://localhost:8080/"
        },
        "id": "b-mlHedET-x1",
        "outputId": "b8f908a5-80e9-4599-b5b6-0966022b0afa"
      },
      "source": [
        "dfs(graph_assignment_1,'C')"
      ],
      "execution_count": 27,
      "outputs": [
        {
          "output_type": "stream",
          "text": [
            "C\n",
            "{'C'}\n",
            "G\n",
            "{'C', 'G'}\n",
            "F\n",
            "{'C', 'G', 'F'}\n",
            "J\n",
            "{'C', 'G', 'F', 'J'}\n"
          ],
          "name": "stdout"
        }
      ]
    },
    {
      "cell_type": "code",
      "metadata": {
        "colab": {
          "base_uri": "https://localhost:8080/"
        },
        "id": "yKeFpaFbUN8a",
        "outputId": "23f0e35f-a333-4b90-8564-21cc72361116"
      },
      "source": [
        "dfs(graph_assignment_1,'D')"
      ],
      "execution_count": 28,
      "outputs": [
        {
          "output_type": "stream",
          "text": [
            "D\n",
            "{'D'}\n",
            "H\n",
            "{'D', 'H'}\n"
          ],
          "name": "stdout"
        }
      ]
    }
  ]
}