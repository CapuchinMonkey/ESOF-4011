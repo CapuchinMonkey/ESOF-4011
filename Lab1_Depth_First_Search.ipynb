{
  "nbformat": 4,
  "nbformat_minor": 0,
  "metadata": {
    "colab": {
      "name": "Lab1_Depth_First_Search.ipynb",
      "provenance": [],
      "collapsed_sections": [],
      "authorship_tag": "ABX9TyPO47tCI24UmhhIKacnRawA",
      "include_colab_link": true
    },
    "kernelspec": {
      "name": "python3",
      "display_name": "Python 3"
    }
  },
  "cells": [
    {
      "cell_type": "markdown",
      "metadata": {
        "id": "view-in-github",
        "colab_type": "text"
      },
      "source": [
        "<a href=\"https://colab.research.google.com/github/RFHertel/ESOF-4011/blob/main/Lab1_Depth_First_Search.ipynb\" target=\"_parent\"><img src=\"https://colab.research.google.com/assets/colab-badge.svg\" alt=\"Open In Colab\"/></a>"
      ]
    },
    {
      "cell_type": "markdown",
      "metadata": {
        "id": "Aid-1jcOerOH"
      },
      "source": [
        "Depth First Search ESOF 4011 Lab1 Solution\r\n",
        "\r\n",
        "Lab Instructor: Robert Hertel"
      ]
    },
    {
      "cell_type": "markdown",
      "metadata": {
        "id": "gu2A48xIhRiO"
      },
      "source": [
        "Note: Please share all links with me in the future by pressing share in the top right corner"
      ]
    },
    {
      "cell_type": "markdown",
      "metadata": {
        "id": "Bt7gG8jggxuE"
      },
      "source": [
        "Introduction Format:\r\n",
        "\r\n",
        "Student Name: Robert Hertel\r\n",
        "\r\n",
        "Sudent ID: XXXXXX\r\n",
        "\r\n",
        "Lab No.: 1 \r\n",
        "\r\n",
        "Colab link: https://colab.research.google.com/drive/1PtFckrpB0H0IQnrxuQM5aJ9zuPVwx1o4#scrollTo=Bt7gG8jggxuE\r\n",
        "\r\n"
      ]
    },
    {
      "cell_type": "markdown",
      "metadata": {
        "id": "BEP0jnGVebKa"
      },
      "source": [
        "1) Data Structure"
      ]
    },
    {
      "cell_type": "code",
      "metadata": {
        "id": "MRVgJYP0S1r4"
      },
      "source": [
        "graph_assignment_1 = {\r\n",
        "    'A' : ['B','C','D'],\r\n",
        "    'B' : ['E'],\r\n",
        "    'C' : ['F','G'],\r\n",
        "    'D' : ['H'],\r\n",
        "    'E' : ['I'],\r\n",
        "    'F' : ['J'],\r\n",
        "    'G' : [],\r\n",
        "    'H' : [],\r\n",
        "    'I' : [],\r\n",
        "    'J' : [],\r\n",
        "\r\n",
        "\r\n",
        "}"
      ],
      "execution_count": null,
      "outputs": []
    },
    {
      "cell_type": "markdown",
      "metadata": {
        "id": "pIi1V4mFUdbN"
      },
      "source": [
        "2) Networkx Solution"
      ]
    },
    {
      "cell_type": "code",
      "metadata": {
        "id": "QcuIPyDRUd1v"
      },
      "source": [
        "import networkx as nx\r\n",
        "\r\n",
        "G = nx.Graph()\r\n",
        "G.add_nodes_from(['A','B','C','D','E','F','G','H','I','J']) #add multiple nodes\r\n",
        "G.add_edge('A','B')\r\n",
        "G.add_edge('B','E')\r\n",
        "G.add_edge('E','I')\r\n",
        "G.add_edge('A','C')\r\n",
        "G.add_edge('C','G')\r\n",
        "G.add_edge('C','F')\r\n",
        "G.add_edge('F','J')\r\n",
        "G.add_edge('A','D')\r\n",
        "G.add_edge('D','H')\r\n",
        "\r\n",
        "\r\n"
      ],
      "execution_count": null,
      "outputs": []
    },
    {
      "cell_type": "code",
      "metadata": {
        "colab": {
          "base_uri": "https://localhost:8080/",
          "height": 319
        },
        "id": "SakogL9VWo85",
        "outputId": "7c81c33f-5109-4aba-f34b-4b22ddfdfa06"
      },
      "source": [
        "import matplotlib.pyplot as plt\r\n",
        "\r\n",
        "nx.draw(G, with_labels=True, font_weight='bold')\r\n",
        "\r\n",
        "plt.show()"
      ],
      "execution_count": null,
      "outputs": [
        {
          "output_type": "display_data",
          "data": {
            "image/png": "[encoded data removed]",
            "text/plain": [
              "<Figure size 432x288 with 1 Axes>"
            ]
          },
          "metadata": {
            "tags": []
          }
        }
      ]
    },
    {
      "cell_type": "markdown",
      "metadata": {
        "id": "K8DsAuS2UzG5"
      },
      "source": [
        "3) Algorithm Development\r\n",
        "\r\n",
        "Pseudo Code\r\n",
        "\r\n",
        "    Stack = start node\r\n",
        "    Visited_set = empty set\r\n",
        "\r\n",
        "    While stack != empty\r\n",
        "  \r\n",
        "      node = node # off end of the stack\r\n",
        "  \r\n",
        "      if node not in visited_set: \r\n",
        "    \r\n",
        "        visited = visited with appended node\r\n",
        "   \r\n",
        "          print(node)\r\n",
        "    \r\n",
        "          for loop through neighbors in graph[at current node]:\r\n",
        "      \r\n",
        "          if neighbor not in visited_set:\r\n",
        "              Stack = neighbor appended on to it\r\n"
      ]
    },
    {
      "cell_type": "markdown",
      "metadata": {
        "id": "R4yqQv2FaHlN"
      },
      "source": [
        "Depth-First Search Algorithm"
      ]
    },
    {
      "cell_type": "code",
      "metadata": {
        "id": "vqn40_epobFO"
      },
      "source": [
        "def dfs(graph, start): # Create dfs Function\r\n",
        "    \"\"\"\r\n",
        "    Returns the DFS graph from the start node\r\n",
        "    :param graph: The graph being searched\r\n",
        "    :param start: The node the search algorithm begins at\r\n",
        "    \"\"\"\r\n",
        "    visited = set() #Showing how to make a set of visited nodes\r\n",
        "    stack = [start] # Start of stack should be letter initially assigned\r\n",
        "\r\n",
        "    while stack:    # While loop that is iteratively looping through the nodes that get added to the stack\r\n",
        "        node = stack.pop()   # Using the pop method to one at a time take one node of the end of the stack and assign it to the current 'node'\r\n",
        "        if node not in visited:  # If the node is not in the set of nodes that have been visited perform the following\r\n",
        "            visited.add(node)   # Add the node to the visited list\r\n",
        "            print (node)          #Print the node to meet the condition in the assignment for recording the visted nodes\r\n",
        "            print (visited)     # For troubleshooting to see the set of nodes visited\r\n",
        "            for neighbor in graph[node]: # Find all the adjacent nodes in the graph\r\n",
        "                if neighbor not in visited: # If the node that's adjacent hasn't been visited append it to the stack\r\n",
        "                    stack.append(neighbor)\r\n",
        "\r\n",
        "\r\n",
        "    "
      ],
      "execution_count": null,
      "outputs": []
    },
    {
      "cell_type": "code",
      "metadata": {
        "colab": {
          "base_uri": "https://localhost:8080/"
        },
        "id": "AaTx_mZuodxm",
        "outputId": "456b27aa-c125-4ab1-abd6-3029d092fb4b"
      },
      "source": [
        "dfs(graph_assignment_1,'A')"
      ],
      "execution_count": null,
      "outputs": [
        {
          "output_type": "stream",
          "text": [
            "A\n",
            "{'A'}\n",
            "D\n",
            "{'A', 'D'}\n",
            "H\n",
            "{'A', 'D', 'H'}\n",
            "C\n",
            "{'A', 'C', 'D', 'H'}\n",
            "G\n",
            "{'A', 'H', 'C', 'G', 'D'}\n",
            "F\n",
            "{'A', 'H', 'C', 'G', 'F', 'D'}\n",
            "J\n",
            "{'A', 'J', 'H', 'C', 'G', 'F', 'D'}\n",
            "B\n",
            "{'A', 'J', 'B', 'H', 'C', 'G', 'F', 'D'}\n",
            "E\n",
            "{'A', 'J', 'B', 'H', 'E', 'C', 'G', 'F', 'D'}\n",
            "I\n",
            "{'A', 'J', 'B', 'H', 'E', 'C', 'G', 'F', 'I', 'D'}\n"
          ],
          "name": "stdout"
        }
      ]
    },
    {
      "cell_type": "code",
      "metadata": {
        "colab": {
          "base_uri": "https://localhost:8080/"
        },
        "id": "b-mlHedET-x1",
        "outputId": "b8f908a5-80e9-4599-b5b6-0966022b0afa"
      },
      "source": [
        "dfs(graph_assignment_1,'C')"
      ],
      "execution_count": null,
      "outputs": [
        {
          "output_type": "stream",
          "text": [
            "C\n",
            "{'C'}\n",
            "G\n",
            "{'C', 'G'}\n",
            "F\n",
            "{'C', 'G', 'F'}\n",
            "J\n",
            "{'C', 'G', 'F', 'J'}\n"
          ],
          "name": "stdout"
        }
      ]
    },
    {
      "cell_type": "code",
      "metadata": {
        "colab": {
          "base_uri": "https://localhost:8080/"
        },
        "id": "yKeFpaFbUN8a",
        "outputId": "23f0e35f-a333-4b90-8564-21cc72361116"
      },
      "source": [
        "dfs(graph_assignment_1,'D')"
      ],
      "execution_count": null,
      "outputs": [
        {
          "output_type": "stream",
          "text": [
            "D\n",
            "{'D'}\n",
            "H\n",
            "{'D', 'H'}\n"
          ],
          "name": "stdout"
        }
      ]
    },
    {
      "cell_type": "markdown",
      "metadata": {
        "id": "oYSqe5_IraM-"
      },
      "source": [
        "Assignment for Quick Reference:\r\n",
        "\r\n",
        "Objective: This lab exercise is intended for students to demonstrate their ability in handling various data structures, visualization, and algorithm design and implementation in Python programming language. \r\n",
        "Deliverables:\r\n",
        "1-\tStudents must complete the given task and submit their well-documented source code and results. \r\n",
        "2-\tThe code must be written following modular programming technique. \r\n",
        "3-\tThe submission lab file (PDF format) must include an accessible link to the student’s script on the Google Colab.\r\n",
        "Note – Follow the given sample submission file: \r\n",
        "(Sample_modular_coding_and_documentation.ipynb – Colaboratory.pdf. You can generate such pdf file using ctrl+P -> Save as option)\r\n",
        "\r\n",
        "Software/hardware paradigm: Python/ Google Colab\r\n",
        "\r\n",
        "Task: Design and implement the depth-first searching algorithm.\r\n",
        "1.\tCreate a data structure to hold a directed graph that has the following nine edges: \r\n",
        "A>B, A>C, A>D, B>E, C>G, C>F, D>H, E>I, F>J\r\n",
        "\r\n",
        "Tips: Use adjacency list in the Python dictionary\r\n",
        "\r\n",
        "2.\tPerform a visualization of directed graph like the one shown in Fig. 1.\r\n",
        "\r\n",
        " ![image.png](data:image/png;base64,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)\r\n",
        "\r\n",
        "Figure 1: A directed graph to be used for lab 1.\r\n",
        "\r\n",
        "Tips: Use pyplot and networkx Python libraries. \r\n",
        "\r\n",
        "3.\tAlgorithm development\r\n",
        "i.\tWrite a pseudocode of depth-first search algorithm.\r\n",
        "ii.\tWrite Python code that takes the data structure of the graph and a detail of an initial or source node and returns the traversal (the sequence of non-visited nodes to be visited) of depth-first search algorithm. \r\n",
        "iii.\tFor example, calling of the function myDFS(graph, \"A\") would return A->D->H->C->G->F->J->B->E->I. Similarly, myDFS(graph, \"C\") would return C->G->F->J, where myDFS() is the user written function that takes two arguments: graph, and a source node. \r\n",
        "iv.\tTest your algorithm for the source nodes “A”, “C”, and “D”. Justify the solutions generated by your program. \r\n",
        "\r\n",
        "Tips:  \r\n",
        "i.\tUse a stack and a list or set to keep track of the visited nodes. \r\n",
        "ii.\tUse stack operations, such as .pop(), .append() in Python.\r\n"
      ]
    }
  ]
}