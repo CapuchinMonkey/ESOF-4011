{
  "nbformat": 4,
  "nbformat_minor": 0,
  "metadata": {
    "colab": {
      "name": "Lab1_Uniform Cost Search.ipynb",
      "provenance": [],
      "collapsed_sections": [],
      "authorship_tag": "ABX9TyM3PUFSTjzUVyMjgpnS+Dz0",
      "include_colab_link": true
    },
    "kernelspec": {
      "name": "python3",
      "display_name": "Python 3"
    }
  },
  "cells": [
    {
      "cell_type": "markdown",
      "metadata": {
        "id": "view-in-github",
        "colab_type": "text"
      },
      "source": [
        "<a href=\"https://colab.research.google.com/github/robhertel/ESOF-4011/blob/main/Lab1_Uniform_Cost_Search.ipynb\" target=\"_parent\"><img src=\"https://colab.research.google.com/assets/colab-badge.svg\" alt=\"Open In Colab\"/></a>"
      ]
    },
    {
      "cell_type": "markdown",
      "metadata": {
        "id": "J-dHc-RHPIQ4"
      },
      "source": [
        "https://www.educative.io/edpresso/what-is-the-python-priority-queue"
      ]
    },
    {
      "cell_type": "markdown",
      "metadata": {
        "id": "fxZglVNUc589"
      },
      "source": [
        "![image.png](data:image/png;base64,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)"
      ]
    },
    {
      "cell_type": "code",
      "metadata": {
        "id": "6KfcVpSbPJSj"
      },
      "source": [
        "from queue import Queue, PriorityQueue"
      ],
      "execution_count": 1,
      "outputs": []
    },
    {
      "cell_type": "code",
      "metadata": {
        "id": "UCk1Z1iZPLdO"
      },
      "source": [
        "def ucs_weight(from_node, to_node, weights=None):\r\n",
        "    \"\"\"\r\n",
        "    Returns the UCS weight for a edge between from and to\r\n",
        "    Assumption: There is no edge with weight >= 10e100 (You can change it)\r\n",
        "    :param from_node: The node edge starts from\r\n",
        "    :param to_node: The node edge ends to\r\n",
        "    :param weights: Dictionary of weights; maps `(from, to) -> weight`\r\n",
        "    :return: Returns the weight of edge between from and to.\r\n",
        "    \"\"\"\r\n",
        "    return weights.get((from_node, to_node), 10e100) if weights else 1"
      ],
      "execution_count": 2,
      "outputs": []
    },
    {
      "cell_type": "code",
      "metadata": {
        "id": "QXrbfG6VPX6O"
      },
      "source": [
        "def ucs(graph, start, end, weights=None):\r\n",
        "    \"\"\"\r\n",
        "    Function to compute UCS(Uniform Cost Search) for a graph\r\n",
        "    :param graph: The graph to compute UCS for\r\n",
        "    :param start: start node\r\n",
        "    :param end: end node\r\n",
        "    :param weights: A dictionary of weights; maps (start_node, end_node) -> weight\r\n",
        "    \"\"\"\r\n",
        "    frontier = PriorityQueue()\r\n",
        "    frontier.put((0, start))  # (priority, node)\r\n",
        "    explored = []\r\n",
        "\r\n",
        "    while True:\r\n",
        "        if frontier.empty():\r\n",
        "            raise Exception(\"No way Exception\")\r\n",
        "\r\n",
        "        ucs_w, current_node = frontier.get()\r\n",
        "        print (ucs_w)\r\n",
        "        print (current_node)\r\n",
        "        explored.append(current_node)\r\n",
        "        print (explored)\r\n",
        "        if current_node == end:\r\n",
        "            return\r\n",
        "\r\n",
        "        for node in graph[current_node]:\r\n",
        "            if node not in explored:\r\n",
        "                frontier.put((\r\n",
        "                    ucs_w + ucs_weight(current_node, node, weights),\r\n",
        "                    node\r\n",
        "                ))"
      ],
      "execution_count": 3,
      "outputs": []
    },
    {
      "cell_type": "code",
      "metadata": {
        "id": "sD_li0CWPcVk"
      },
      "source": [
        "ucs_test_graph = {\r\n",
        "     'S': ['A', 'B', 'C'],\r\n",
        "     'A': ['S', 'G'],\r\n",
        "     'B': ['S', 'G'],\r\n",
        "     'C': ['S', 'G'],\r\n",
        "     'G': ['A', 'B', 'C']\r\n",
        " }"
      ],
      "execution_count": 4,
      "outputs": []
    },
    {
      "cell_type": "code",
      "metadata": {
        "id": "XVJR_ooYPokf"
      },
      "source": [
        " ucs_test_weight = {\r\n",
        "     ('S', 'A'): 1,\r\n",
        "     ('S', 'B'): 5,\r\n",
        "     ('S', 'C'): 15,\r\n",
        "\r\n",
        "     ('A', 'G'): 10,\r\n",
        "     ('A', 'S'): 1,\r\n",
        "\r\n",
        "     ('B', 'S'): 5,\r\n",
        "     ('B', 'G'): 5,\r\n",
        "\r\n",
        "     ('C', 'S'): 15,\r\n",
        "     ('C', 'G'): 5,\r\n",
        "\r\n",
        "     ('G', 'A'): 10,\r\n",
        "     ('G', 'B'): 5,\r\n",
        "     ('G', 'C'): 5,\r\n",
        " }"
      ],
      "execution_count": 5,
      "outputs": []
    },
    {
      "cell_type": "code",
      "metadata": {
        "colab": {
          "base_uri": "https://localhost:8080/"
        },
        "id": "UjiqNeXhP5we",
        "outputId": "97f9a21d-8d62-45bb-9e2d-8b1828057f19"
      },
      "source": [
        "ucs(ucs_test_graph, 'S', 'G', ucs_test_weight)"
      ],
      "execution_count": 6,
      "outputs": [
        {
          "output_type": "stream",
          "text": [
            "0\n",
            "S\n",
            "['S']\n",
            "1\n",
            "A\n",
            "['S', 'A']\n",
            "5\n",
            "B\n",
            "['S', 'A', 'B']\n",
            "10\n",
            "G\n",
            "['S', 'A', 'B', 'G']\n"
          ],
          "name": "stdout"
        }
      ]
    }
  ]
}